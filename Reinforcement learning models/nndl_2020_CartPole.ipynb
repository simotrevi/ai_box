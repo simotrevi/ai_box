{
  "nbformat": 4,
  "nbformat_minor": 0,
  "metadata": {
    "colab": {
      "name": "nndl_2020__homework_3_CartPole.ipynb",
      "provenance": [],
      "collapsed_sections": [],
      "toc_visible": true
    },
    "kernelspec": {
      "name": "python3",
      "display_name": "Python 3"
    },
    "accelerator": "GPU",
    "widgets": {
      "application/vnd.jupyter.widget-state+json": {
        "1392192d13b84eecaa5b35efa65129f9": {
          "model_module": "@jupyter-widgets/controls",
          "model_name": "HBoxModel",
          "state": {
            "_view_name": "HBoxView",
            "_dom_classes": [],
            "_model_name": "HBoxModel",
            "_view_module": "@jupyter-widgets/controls",
            "_model_module_version": "1.5.0",
            "_view_count": null,
            "_view_module_version": "1.5.0",
            "box_style": "",
            "layout": "IPY_MODEL_b24ff5ee82964d64b49f33cd896ead41",
            "_model_module": "@jupyter-widgets/controls",
            "children": [
              "IPY_MODEL_b398e9d8c9644adeb22bb7c859a417b8",
              "IPY_MODEL_610022ca0d7740a3990d23d6cb98df7a"
            ]
          }
        },
        "b24ff5ee82964d64b49f33cd896ead41": {
          "model_module": "@jupyter-widgets/base",
          "model_name": "LayoutModel",
          "state": {
            "_view_name": "LayoutView",
            "grid_template_rows": null,
            "right": null,
            "justify_content": null,
            "_view_module": "@jupyter-widgets/base",
            "overflow": null,
            "_model_module_version": "1.2.0",
            "_view_count": null,
            "flex_flow": null,
            "width": null,
            "min_width": null,
            "border": null,
            "align_items": null,
            "bottom": null,
            "_model_module": "@jupyter-widgets/base",
            "top": null,
            "grid_column": null,
            "overflow_y": null,
            "overflow_x": null,
            "grid_auto_flow": null,
            "grid_area": null,
            "grid_template_columns": null,
            "flex": null,
            "_model_name": "LayoutModel",
            "justify_items": null,
            "grid_row": null,
            "max_height": null,
            "align_content": null,
            "visibility": null,
            "align_self": null,
            "height": null,
            "min_height": null,
            "padding": null,
            "grid_auto_rows": null,
            "grid_gap": null,
            "max_width": null,
            "order": null,
            "_view_module_version": "1.2.0",
            "grid_template_areas": null,
            "object_position": null,
            "object_fit": null,
            "grid_auto_columns": null,
            "margin": null,
            "display": null,
            "left": null
          }
        },
        "b398e9d8c9644adeb22bb7c859a417b8": {
          "model_module": "@jupyter-widgets/controls",
          "model_name": "FloatProgressModel",
          "state": {
            "_view_name": "ProgressView",
            "style": "IPY_MODEL_5f634e2c62d04ac18442bd0f952006d6",
            "_dom_classes": [],
            "description": "100%",
            "_model_name": "FloatProgressModel",
            "bar_style": "success",
            "max": 250,
            "_view_module": "@jupyter-widgets/controls",
            "_model_module_version": "1.5.0",
            "value": 250,
            "_view_count": null,
            "_view_module_version": "1.5.0",
            "orientation": "horizontal",
            "min": 0,
            "description_tooltip": null,
            "_model_module": "@jupyter-widgets/controls",
            "layout": "IPY_MODEL_d8f574ec45b444298daa2f404377621b"
          }
        },
        "610022ca0d7740a3990d23d6cb98df7a": {
          "model_module": "@jupyter-widgets/controls",
          "model_name": "HTMLModel",
          "state": {
            "_view_name": "HTMLView",
            "style": "IPY_MODEL_bbfc4b528c1e45a6bf696bc14f0cef3c",
            "_dom_classes": [],
            "description": "",
            "_model_name": "HTMLModel",
            "placeholder": "​",
            "_view_module": "@jupyter-widgets/controls",
            "_model_module_version": "1.5.0",
            "value": " 250/250 [01:26&lt;00:00,  2.90it/s]",
            "_view_count": null,
            "_view_module_version": "1.5.0",
            "description_tooltip": null,
            "_model_module": "@jupyter-widgets/controls",
            "layout": "IPY_MODEL_1a9a30656a7e4c40a32d1f3468a2a34f"
          }
        },
        "5f634e2c62d04ac18442bd0f952006d6": {
          "model_module": "@jupyter-widgets/controls",
          "model_name": "ProgressStyleModel",
          "state": {
            "_view_name": "StyleView",
            "_model_name": "ProgressStyleModel",
            "description_width": "initial",
            "_view_module": "@jupyter-widgets/base",
            "_model_module_version": "1.5.0",
            "_view_count": null,
            "_view_module_version": "1.2.0",
            "bar_color": null,
            "_model_module": "@jupyter-widgets/controls"
          }
        },
        "d8f574ec45b444298daa2f404377621b": {
          "model_module": "@jupyter-widgets/base",
          "model_name": "LayoutModel",
          "state": {
            "_view_name": "LayoutView",
            "grid_template_rows": null,
            "right": null,
            "justify_content": null,
            "_view_module": "@jupyter-widgets/base",
            "overflow": null,
            "_model_module_version": "1.2.0",
            "_view_count": null,
            "flex_flow": null,
            "width": null,
            "min_width": null,
            "border": null,
            "align_items": null,
            "bottom": null,
            "_model_module": "@jupyter-widgets/base",
            "top": null,
            "grid_column": null,
            "overflow_y": null,
            "overflow_x": null,
            "grid_auto_flow": null,
            "grid_area": null,
            "grid_template_columns": null,
            "flex": null,
            "_model_name": "LayoutModel",
            "justify_items": null,
            "grid_row": null,
            "max_height": null,
            "align_content": null,
            "visibility": null,
            "align_self": null,
            "height": null,
            "min_height": null,
            "padding": null,
            "grid_auto_rows": null,
            "grid_gap": null,
            "max_width": null,
            "order": null,
            "_view_module_version": "1.2.0",
            "grid_template_areas": null,
            "object_position": null,
            "object_fit": null,
            "grid_auto_columns": null,
            "margin": null,
            "display": null,
            "left": null
          }
        },
        "bbfc4b528c1e45a6bf696bc14f0cef3c": {
          "model_module": "@jupyter-widgets/controls",
          "model_name": "DescriptionStyleModel",
          "state": {
            "_view_name": "StyleView",
            "_model_name": "DescriptionStyleModel",
            "description_width": "",
            "_view_module": "@jupyter-widgets/base",
            "_model_module_version": "1.5.0",
            "_view_count": null,
            "_view_module_version": "1.2.0",
            "_model_module": "@jupyter-widgets/controls"
          }
        },
        "1a9a30656a7e4c40a32d1f3468a2a34f": {
          "model_module": "@jupyter-widgets/base",
          "model_name": "LayoutModel",
          "state": {
            "_view_name": "LayoutView",
            "grid_template_rows": null,
            "right": null,
            "justify_content": null,
            "_view_module": "@jupyter-widgets/base",
            "overflow": null,
            "_model_module_version": "1.2.0",
            "_view_count": null,
            "flex_flow": null,
            "width": null,
            "min_width": null,
            "border": null,
            "align_items": null,
            "bottom": null,
            "_model_module": "@jupyter-widgets/base",
            "top": null,
            "grid_column": null,
            "overflow_y": null,
            "overflow_x": null,
            "grid_auto_flow": null,
            "grid_area": null,
            "grid_template_columns": null,
            "flex": null,
            "_model_name": "LayoutModel",
            "justify_items": null,
            "grid_row": null,
            "max_height": null,
            "align_content": null,
            "visibility": null,
            "align_self": null,
            "height": null,
            "min_height": null,
            "padding": null,
            "grid_auto_rows": null,
            "grid_gap": null,
            "max_width": null,
            "order": null,
            "_view_module_version": "1.2.0",
            "grid_template_areas": null,
            "object_position": null,
            "object_fit": null,
            "grid_auto_columns": null,
            "margin": null,
            "display": null,
            "left": null
          }
        }
      }
    }
  },
  "cells": [
    {
      "cell_type": "markdown",
      "metadata": {
        "id": "zYncZVOyF8Rb"
      },
      "source": [
        "#NEURAL NETWORKS AND DEEP LEARNING\n",
        "> M.Sc. ICT FOR LIFE AND HEALTH\n",
        "> \n",
        "> Department of Information Engineering\n",
        "\n",
        "> M.Sc. COMPUTER ENGINEERING\n",
        ">\n",
        "> Department of Information Engineering\n",
        "\n",
        "> M.Sc. AUTOMATION ENGINEERING\n",
        ">\n",
        "> Department of Information Engineering\n",
        " \n",
        "> M.Sc. PHYSICS OF DATA\n",
        ">\n",
        "> Department of Physics and Astronomy\n",
        " \n",
        "> M.Sc. COGNITIVE NEUROSCIENCE AND CLINICAL NEUROPSYCHOLOGY\n",
        ">\n",
        "> Department of General Psychology\n",
        "\n",
        "---\n",
        "A.A. 2020/21 (6 CFU) - Dr. Alberto Testolin, Dr. Matteo Gadaleta\n",
        "---\n"
      ]
    },
    {
      "cell_type": "markdown",
      "metadata": {
        "id": "AgHJFDwYvgHg"
      },
      "source": [
        "# Homework 3 - Deep Reinforcement Learning\r\n",
        "# Simone Trevisan 1238612"
      ]
    },
    {
      "cell_type": "markdown",
      "metadata": {
        "id": "B_sYOS17V-IC"
      },
      "source": [
        "# DQN - CartPole: quantitative input"
      ]
    },
    {
      "cell_type": "markdown",
      "metadata": {
        "id": "5o0vTghiAU-i"
      },
      "source": [
        "## Environment initialization"
      ]
    },
    {
      "cell_type": "code",
      "metadata": {
        "id": "jBelL8nBZVsn",
        "colab": {
          "base_uri": "https://localhost:8080/"
        },
        "outputId": "d4f87f8c-4deb-4f8a-9b84-3c4aacf7348e"
      },
      "source": [
        "!pip install gym"
      ],
      "execution_count": null,
      "outputs": [
        {
          "output_type": "stream",
          "text": [
            "Requirement already satisfied: gym in /usr/local/lib/python3.6/dist-packages (0.17.3)\n",
            "Requirement already satisfied: cloudpickle<1.7.0,>=1.2.0 in /usr/local/lib/python3.6/dist-packages (from gym) (1.3.0)\n",
            "Requirement already satisfied: scipy in /usr/local/lib/python3.6/dist-packages (from gym) (1.4.1)\n",
            "Requirement already satisfied: numpy>=1.10.4 in /usr/local/lib/python3.6/dist-packages (from gym) (1.19.4)\n",
            "Requirement already satisfied: pyglet<=1.5.0,>=1.4.0 in /usr/local/lib/python3.6/dist-packages (from gym) (1.5.0)\n",
            "Requirement already satisfied: future in /usr/local/lib/python3.6/dist-packages (from pyglet<=1.5.0,>=1.4.0->gym) (0.16.0)\n"
          ],
          "name": "stdout"
        }
      ]
    },
    {
      "cell_type": "code",
      "metadata": {
        "id": "a7EkHQ0VsNnJ"
      },
      "source": [
        "import random\n",
        "import torch\n",
        "import numpy as np\n",
        "import gym\n",
        "import matplotlib.pyplot as plt\n",
        "from tqdm.notebook import tqdm\n",
        "\n",
        "from torch import nn\n",
        "from collections import deque # this python module implements exactly what we need for the replay memeory"
      ],
      "execution_count": null,
      "outputs": []
    },
    {
      "cell_type": "code",
      "metadata": {
        "id": "V0HIwpatSteb",
        "colab": {
          "base_uri": "https://localhost:8080/"
        },
        "outputId": "f7148f66-6d4d-4e3e-dcc8-ba5e0d17fb6b"
      },
      "source": [
        "!apt update\n",
        "!apt-get install python-opengl -y\n",
        "!apt install xvfb -y\n",
        "!pip install pyvirtualdisplay\n",
        "!pip install piglet"
      ],
      "execution_count": null,
      "outputs": [
        {
          "output_type": "stream",
          "text": [
            "\u001b[33m\r0% [Working]\u001b[0m\r            \rIgn:1 https://developer.download.nvidia.com/compute/cuda/repos/ubuntu1804/x86_64  InRelease\n",
            "\u001b[33m\r0% [Connecting to archive.ubuntu.com (91.189.88.152)] [Connecting to security.u\u001b[0m\r                                                                               \rHit:2 https://cloud.r-project.org/bin/linux/ubuntu bionic-cran40/ InRelease\n",
            "\u001b[33m\r0% [Connecting to archive.ubuntu.com (91.189.88.152)] [Connecting to security.u\u001b[0m\u001b[33m\r0% [2 InRelease gpgv 3,626 B] [Connecting to archive.ubuntu.com (91.189.88.152)\u001b[0m\r                                                                               \rIgn:3 https://developer.download.nvidia.com/compute/machine-learning/repos/ubuntu1804/x86_64  InRelease\n",
            "\u001b[33m\r0% [2 InRelease gpgv 3,626 B] [Connecting to archive.ubuntu.com (91.189.88.152)\u001b[0m\r                                                                               \rHit:4 https://developer.download.nvidia.com/compute/cuda/repos/ubuntu1804/x86_64  Release\n",
            "Hit:5 https://developer.download.nvidia.com/compute/machine-learning/repos/ubuntu1804/x86_64  Release\n",
            "Hit:6 http://security.ubuntu.com/ubuntu bionic-security InRelease\n",
            "Hit:7 http://ppa.launchpad.net/c2d4u.team/c2d4u4.0+/ubuntu bionic InRelease\n",
            "Hit:8 http://archive.ubuntu.com/ubuntu bionic InRelease\n",
            "Hit:9 http://archive.ubuntu.com/ubuntu bionic-updates InRelease\n",
            "Hit:11 http://ppa.launchpad.net/cran/libgit2/ubuntu bionic InRelease\n",
            "Hit:12 http://archive.ubuntu.com/ubuntu bionic-backports InRelease\n",
            "Hit:14 http://ppa.launchpad.net/graphics-drivers/ppa/ubuntu bionic InRelease\n",
            "Reading package lists... Done\n",
            "Building dependency tree       \n",
            "Reading state information... Done\n",
            "29 packages can be upgraded. Run 'apt list --upgradable' to see them.\n",
            "Reading package lists... Done\n",
            "Building dependency tree       \n",
            "Reading state information... Done\n",
            "python-opengl is already the newest version (3.1.0+dfsg-1).\n",
            "0 upgraded, 0 newly installed, 0 to remove and 29 not upgraded.\n",
            "Reading package lists... Done\n",
            "Building dependency tree       \n",
            "Reading state information... Done\n",
            "xvfb is already the newest version (2:1.19.6-1ubuntu4.8).\n",
            "0 upgraded, 0 newly installed, 0 to remove and 29 not upgraded.\n",
            "Requirement already satisfied: pyvirtualdisplay in /usr/local/lib/python3.6/dist-packages (1.3.2)\n",
            "Requirement already satisfied: EasyProcess in /usr/local/lib/python3.6/dist-packages (from pyvirtualdisplay) (0.3)\n",
            "Requirement already satisfied: piglet in /usr/local/lib/python3.6/dist-packages (1.0.0)\n",
            "Requirement already satisfied: piglet-templates in /usr/local/lib/python3.6/dist-packages (from piglet) (1.1.0)\n",
            "Requirement already satisfied: markupsafe in /usr/local/lib/python3.6/dist-packages (from piglet-templates->piglet) (1.1.1)\n",
            "Requirement already satisfied: astunparse in /usr/local/lib/python3.6/dist-packages (from piglet-templates->piglet) (1.6.3)\n",
            "Requirement already satisfied: Parsley in /usr/local/lib/python3.6/dist-packages (from piglet-templates->piglet) (1.3)\n",
            "Requirement already satisfied: attrs in /usr/local/lib/python3.6/dist-packages (from piglet-templates->piglet) (20.3.0)\n",
            "Requirement already satisfied: wheel<1.0,>=0.23.0 in /usr/local/lib/python3.6/dist-packages (from astunparse->piglet-templates->piglet) (0.36.2)\n",
            "Requirement already satisfied: six<2.0,>=1.6.1 in /usr/local/lib/python3.6/dist-packages (from astunparse->piglet-templates->piglet) (1.15.0)\n"
          ],
          "name": "stdout"
        }
      ]
    },
    {
      "cell_type": "code",
      "metadata": {
        "id": "jxM-vHKz1r_M"
      },
      "source": [
        "import glob\n",
        "import io\n",
        "import base64\n",
        "import os\n",
        "from IPython.display import HTML\n",
        "from IPython import display as ipythondisplay\n",
        "from pyvirtualdisplay import Display\n",
        "from gym.wrappers import Monitor"
      ],
      "execution_count": null,
      "outputs": []
    },
    {
      "cell_type": "code",
      "metadata": {
        "id": "E0oXbzI2ZAfv",
        "colab": {
          "base_uri": "https://localhost:8080/"
        },
        "outputId": "2c271568-8746-4912-cded-1a9ea3f4c319"
      },
      "source": [
        "display = Display(visible=0, size=(1400, 900))\n",
        "display.start()"
      ],
      "execution_count": null,
      "outputs": [
        {
          "output_type": "execute_result",
          "data": {
            "text/plain": [
              "<pyvirtualdisplay.display.Display at 0x7f921367d5c0>"
            ]
          },
          "metadata": {
            "tags": []
          },
          "execution_count": 5
        }
      ]
    },
    {
      "cell_type": "code",
      "metadata": {
        "id": "yr5j5rz0ZEJf"
      },
      "source": [
        "# This code creates a virtual display to draw game images on. \n",
        "# If you are running locally, just ignore it\n",
        "if type(os.environ.get(\"DISPLAY\")) is not str or len(os.environ.get(\"DISPLAY\"))==0:\n",
        "    !bash ../xvfb start\n",
        "    %env DISPLAY=:1"
      ],
      "execution_count": null,
      "outputs": []
    },
    {
      "cell_type": "code",
      "metadata": {
        "id": "StaxWEA0Z-O1"
      },
      "source": [
        "\"\"\"\n",
        "Utility functions to enable video recording of gym environment and displaying it\n",
        "To enable video, just do \"env = wrap_env(env)\"\"\n",
        "\"\"\"\n",
        "\n",
        "def show_videos():\n",
        "  mp4list = glob.glob('video/*.mp4')\n",
        "  mp4list.sort()\n",
        "  for mp4 in mp4list:\n",
        "    print(f\"\\nSHOWING VIDEO {mp4}\")\n",
        "    video = io.open(mp4, 'r+b').read()\n",
        "    encoded = base64.b64encode(video)\n",
        "    ipythondisplay.display(HTML(data='''<video alt=\"test\" autoplay \n",
        "                loop controls style=\"height: 400px;\">\n",
        "                <source src=\"data:video/mp4;base64,{0}\" type=\"video/mp4\" />\n",
        "             </video>'''.format(encoded.decode('ascii'))))\n",
        "    \n",
        "def wrap_env(env, video_callable=None):\n",
        "  env = Monitor(env, './video', force=True, video_callable=video_callable)\n",
        "  return env"
      ],
      "execution_count": null,
      "outputs": []
    },
    {
      "cell_type": "markdown",
      "metadata": {
        "id": "wA_0gAmJfFlT"
      },
      "source": [
        "## Experience replay (Replay Memory)"
      ]
    },
    {
      "cell_type": "code",
      "metadata": {
        "id": "1axKWEBl8uik"
      },
      "source": [
        "class ReplayMemory(object):\n",
        "\n",
        "    def __init__(self, capacity):\n",
        "        self.memory = deque(maxlen=capacity) # Define a queue with maxlen \"capacity\"\n",
        "\n",
        "    def push(self, state, action, next_state, reward):\n",
        "        self.memory.append( (state, action, next_state, reward) ) # Add the tuple (state, action, next_state, reward) to the queue\n",
        "\n",
        "    def sample(self, batch_size):\n",
        "        batch_size = min(batch_size, len(self)) # Get all the samples if the requested batch_size is higher than the number of sample currently in the memory\n",
        "        return random.sample(self.memory, batch_size) # Randomly select \"batch_size\" samples\n",
        "\n",
        "    def __len__(self):\n",
        "        return len(self.memory) # Return the number of samples currently stored in the memory"
      ],
      "execution_count": null,
      "outputs": []
    },
    {
      "cell_type": "markdown",
      "metadata": {
        "id": "Y-nBdx6KfKNE"
      },
      "source": [
        "## Policy network"
      ]
    },
    {
      "cell_type": "markdown",
      "metadata": {
        "id": "-rdsRx6wfZw1"
      },
      "source": [
        "### Network definition"
      ]
    },
    {
      "cell_type": "code",
      "metadata": {
        "id": "W41rXekb8x7K"
      },
      "source": [
        "class DQN(nn.Module):\n",
        "\n",
        "    def __init__(self, state_space_dim, action_space_dim):\n",
        "        super().__init__()\n",
        "\n",
        "        self.linear = nn.Sequential(\n",
        "                nn.Linear(state_space_dim, 128),\n",
        "                nn.Tanh(),\n",
        "                nn.Linear(128, 128),\n",
        "                nn.Tanh(),\n",
        "                nn.Linear(128, action_space_dim)\n",
        "                )\n",
        "\n",
        "    def forward(self, x):\n",
        "        return self.linear(x)"
      ],
      "execution_count": null,
      "outputs": []
    },
    {
      "cell_type": "code",
      "metadata": {
        "id": "tLPAsTT4gpeW"
      },
      "source": [
        "# Define an example network\n",
        "net = DQN(state_space_dim=4, action_space_dim=2)"
      ],
      "execution_count": null,
      "outputs": []
    },
    {
      "cell_type": "markdown",
      "metadata": {
        "id": "ynfEXqjGfbpl"
      },
      "source": [
        "### Exploration Policy"
      ]
    },
    {
      "cell_type": "markdown",
      "metadata": {
        "id": "3x-kRJbQfqBR"
      },
      "source": [
        "#### Epsilon-greedy policy\n"
      ]
    },
    {
      "cell_type": "code",
      "metadata": {
        "id": "ZXfh_Ub1fv4c"
      },
      "source": [
        "def choose_action_epsilon_greedy(net, state, epsilon):\n",
        "    \n",
        "    if epsilon > 1 or epsilon < 0:\n",
        "        raise Exception('The epsilon value must be between 0 and 1')\n",
        "                \n",
        "    # Evaluate the network output from the current state\n",
        "    with torch.no_grad():\n",
        "        net.eval()\n",
        "        state = torch.tensor(state, dtype=torch.float32) # Convert the state to tensor\n",
        "        net_out = net(state)\n",
        "\n",
        "    # Get the best action (argmax of the network output)\n",
        "    best_action = int(net_out.argmax())\n",
        "    # Get the number of possible actions\n",
        "    action_space_dim = net_out.shape[-1]\n",
        "\n",
        "    # Select a non optimal action with probability epsilon, otherwise choose the best action\n",
        "    if random.random() < epsilon:\n",
        "        # List of non-optimal actions\n",
        "        non_optimal_actions = [a for a in range(action_space_dim) if a != best_action]\n",
        "        # Select randomly\n",
        "        action = random.choice(non_optimal_actions)\n",
        "    else:\n",
        "        # Select best action\n",
        "        action = best_action\n",
        "        \n",
        "    return action, net_out.numpy()"
      ],
      "execution_count": null,
      "outputs": []
    },
    {
      "cell_type": "markdown",
      "metadata": {
        "id": "Vvxi7b82f0g4"
      },
      "source": [
        "#### Softmax policy"
      ]
    },
    {
      "cell_type": "code",
      "metadata": {
        "id": "taW_cjBsf4sW"
      },
      "source": [
        "def choose_action_softmax(net, state, temperature):\n",
        "    \n",
        "    if temperature < 0:\n",
        "        raise Exception('The temperature value must be greater than or equal to 0 ')\n",
        "        \n",
        "    # If the temperature is 0, just select the best action using the eps-greedy policy with epsilon = 0\n",
        "    if temperature == 0:\n",
        "        return choose_action_epsilon_greedy(net, state, 0)\n",
        "    \n",
        "    # Evaluate the network output from the current state\n",
        "    with torch.no_grad():\n",
        "        net.eval()\n",
        "        state = torch.tensor(state, dtype=torch.float32)\n",
        "        net_out = net(state)\n",
        "\n",
        "    # Apply softmax with temp\n",
        "    temperature = max(temperature, 1e-8) # set a minimum to the temperature for numerical stability\n",
        "    softmax_out = nn.functional.softmax(net_out / temperature, dim=0).numpy()\n",
        "                \n",
        "    # Sample the action using softmax output as mass pdf\n",
        "    all_possible_actions = np.arange(0, softmax_out.shape[-1])\n",
        "    action = np.random.choice(all_possible_actions, p=softmax_out) # this samples a random element from \"all_possible_actions\" with the probability distribution p (softmax_out in this case)\n",
        "    \n",
        "    return action, net_out.numpy()"
      ],
      "execution_count": null,
      "outputs": []
    },
    {
      "cell_type": "markdown",
      "metadata": {
        "id": "QMXhJfZcpqIA"
      },
      "source": [
        "#### Exploration profile"
      ]
    },
    {
      "cell_type": "code",
      "metadata": {
        "id": "G-f78CC3ptt2",
        "colab": {
          "base_uri": "https://localhost:8080/",
          "height": 514
        },
        "outputId": "e05fbd8b-067b-44a5-b92f-0047aad5b949"
      },
      "source": [
        "### Define exp exploration profile short\n",
        "initial_value = 5\n",
        "num_iterations = 500\n",
        "exp_decay = np.exp(-np.log(initial_value) / num_iterations * 6) # We compute the exponential decay in such a way the shape of the exploration profile does not depend on the number of iterations\n",
        "exp_profile_s = [initial_value * (exp_decay ** i) for i in range(num_iterations)]\n",
        "\n",
        "### Define exp exploration profile medium\n",
        "num_iterations = 1000\n",
        "exp_decay = np.exp(-np.log(initial_value) / num_iterations * 6) # We compute the exponential decay in such a way the shape of the exploration profile does not depend on the number of iterations\n",
        "exp_profile_m = [initial_value * (exp_decay ** i) for i in range(num_iterations)]\n",
        "\n",
        "### Define exp exploration profile long\n",
        "num_iterations = 2000\n",
        "exp_decay = np.exp(-np.log(initial_value) / num_iterations * 6) # We compute the exponential decay in such a way the shape of the exploration profile does not depend on the number of iterations\n",
        "exp_profile_l = [initial_value * (exp_decay ** i) for i in range(num_iterations)]\n",
        "\n",
        "### Define strange exploration profile\n",
        "initial_value = 3\n",
        "num_iterations = 250\n",
        "exp_decay = np.exp(-np.log(initial_value) / num_iterations * 7) # We compute the exponential decay in such a way the shape of the exploration profile does not depend on the number of iterations\n",
        "def gaussian(x, mu, sig):\n",
        "    return np.exp(-np.power(x - mu, 2.) / (2 * np.power(sig, 2.)))\n",
        "\n",
        "exp_profile_strange = [initial_value * (exp_decay ** i) +gaussian(i,num_iterations/2-30,15) for i in range(num_iterations)]\n",
        "\n",
        "### Plot exp exploration profile\n",
        "plt.figure(figsize=(12,8))\n",
        "plt.plot(exp_profile_s, label='exp profile 500')\n",
        "plt.plot(exp_profile_m, label='exp profile 1000')\n",
        "plt.plot(exp_profile_l, label='exp profile 2000')\n",
        "plt.plot(exp_profile_strange, label='modified exp profile 250')\n",
        "plt.legend()\n",
        "plt.grid()\n",
        "plt.xlabel('Iteration')\n",
        "plt.ylabel('Exploration profile')"
      ],
      "execution_count": null,
      "outputs": [
        {
          "output_type": "execute_result",
          "data": {
            "text/plain": [
              "Text(0, 0.5, 'Exploration profile')"
            ]
          },
          "metadata": {
            "tags": []
          },
          "execution_count": 299
        },
        {
          "output_type": "display_data",
          "data": {
            "image/png": "[encoded data removed]",
            "text/plain": [
              "<Figure size 864x576 with 1 Axes>"
            ]
          },
          "metadata": {
            "tags": [],
            "needs_background": "light"
          }
        }
      ]
    },
    {
      "cell_type": "markdown",
      "metadata": {
        "id": "zjKmdFhowRbj"
      },
      "source": [
        "## Gym Environment (CartPole-v1)"
      ]
    },
    {
      "cell_type": "code",
      "metadata": {
        "id": "Ar0yNaNrCnjn",
        "colab": {
          "base_uri": "https://localhost:8080/"
        },
        "outputId": "745217de-a3fa-4b9d-e75a-1ad3a00c2d7e"
      },
      "source": [
        "### Create environment\n",
        "env = gym.make('CartPole-v1') # Initialize the Gym environment\n",
        "env.seed(0) # Set a random seed for the environment (reproducible results)\n",
        "\n",
        "# Get the shapes of the state space (observation_space) and action space (action_space)\n",
        "state_space_dim = env.observation_space.shape[0]\n",
        "action_space_dim = env.action_space.n\n",
        "\n",
        "print(f\"STATE SPACE SIZE: {state_space_dim}\")\n",
        "print(f\"ACTION SPACE SIZE: {action_space_dim}\")"
      ],
      "execution_count": null,
      "outputs": [
        {
          "output_type": "stream",
          "text": [
            "STATE SPACE SIZE: 4\n",
            "ACTION SPACE SIZE: 2\n"
          ],
          "name": "stdout"
        }
      ]
    },
    {
      "cell_type": "markdown",
      "metadata": {
        "id": "9KXpjzf2vdeL"
      },
      "source": [
        "## Network update"
      ]
    },
    {
      "cell_type": "markdown",
      "metadata": {
        "id": "NZ3P9MKjxCAL"
      },
      "source": [
        "### Initialization"
      ]
    },
    {
      "cell_type": "code",
      "metadata": {
        "id": "lVpk-g0i9d-B"
      },
      "source": [
        "# Set random seeds\n",
        "torch.manual_seed(0)\n",
        "np.random.seed(0)\n",
        "random.seed(0)\n",
        "\n",
        "### PARAMETERS\n",
        "gamma = 0.97   # gamma parameter for the long term reward\n",
        "replay_memory_capacity = 25000   # Replay memory capacity\n",
        "lr = 1e-2   # Optimizer learning rate\n",
        "target_net_update_steps = 5   # Number of episodes to wait before updating the target network\n",
        "batch_size = 128   # Number of samples to take from the replay memory for each update\n",
        "bad_state_penalty = 0   # Penalty to the reward when we are in a bad state (in this case when the pole falls down) \n",
        "min_samples_for_training = 600   # Minimum samples in the replay memory to enable the training"
      ],
      "execution_count": null,
      "outputs": []
    },
    {
      "cell_type": "code",
      "metadata": {
        "id": "2k3ZQuh8xHo7"
      },
      "source": [
        "### Initialize the replay memory\n",
        "device = torch.device(\"cuda\") if torch.cuda.is_available() else torch.device(\"cpu\")\n",
        "\n",
        "replay_mem = ReplayMemory(replay_memory_capacity)  \n",
        "\n",
        "### Initialize the policy network\n",
        "policy_net = DQN(state_space_dim, action_space_dim)\n",
        "\n",
        "### Initialize the target network with the same weights of the policy network\n",
        "target_net = DQN(state_space_dim, action_space_dim)\n",
        "target_net.load_state_dict(policy_net.state_dict()) # This will copy the weights of the policy network to the target network\n",
        "\n",
        "### Initialize the optimizer\n",
        "optimizer = torch.optim.SGD(policy_net.parameters(), lr=lr) # The optimizer will update ONLY the parameters of the policy network\n",
        "\n",
        "### Initialize the loss function (Huber loss)\n",
        "loss_fn = nn.SmoothL1Loss()"
      ],
      "execution_count": null,
      "outputs": []
    },
    {
      "cell_type": "markdown",
      "metadata": {
        "id": "LQUTrt8DzJXO"
      },
      "source": [
        "### Update function"
      ]
    },
    {
      "cell_type": "code",
      "metadata": {
        "id": "Sj1hEvPOvkBX"
      },
      "source": [
        "def update_step(policy_net, target_net, replay_mem, gamma, optimizer, loss_fn, batch_size):\n",
        "        \n",
        "    # Sample the data from the replay memory\n",
        "    batch = replay_mem.sample(batch_size)\n",
        "    batch_size = len(batch)\n",
        "\n",
        "    # Create tensors for each element of the batch\n",
        "    states      = torch.tensor([s[0] for s in batch], dtype=torch.float32)\n",
        "    actions     = torch.tensor([s[1] for s in batch], dtype=torch.int64)\n",
        "    rewards     = torch.tensor([s[3] for s in batch], dtype=torch.float32)\n",
        "\n",
        "    # Compute a mask of non-final states (all the elements where the next state is not None)\n",
        "    non_final_next_states = torch.tensor([s[2] for s in batch if s[2] is not None], dtype=torch.float32) # the next state can be None if the game has ended\n",
        "    non_final_mask = torch.tensor([s[2] is not None for s in batch], dtype=torch.bool)\n",
        "\n",
        "    # Compute all the Q values (forward pass)\n",
        "    policy_net.train()\n",
        "    q_values = policy_net(states)\n",
        "    # Select the proper Q value for the corresponding action taken Q(s_t, a)\n",
        "    state_action_values = q_values.gather(1, actions.unsqueeze(1))\n",
        "\n",
        "    # Compute the value function of the next states using the target network V(s_{t+1}) = max_a( Q_target(s_{t+1}, a)) )\n",
        "    with torch.no_grad():\n",
        "      target_net.eval()\n",
        "      q_values_target = target_net(non_final_next_states)\n",
        "    next_state_max_q_values = torch.zeros(batch_size)\n",
        "    next_state_max_q_values[non_final_mask] = q_values_target.max(dim=1)[0]\n",
        "\n",
        "    # Compute the expected Q values\n",
        "    expected_state_action_values = rewards + (next_state_max_q_values * gamma)\n",
        "    expected_state_action_values = expected_state_action_values.unsqueeze(1) # Set the required tensor shape\n",
        "\n",
        "    # Compute the Huber loss\n",
        "    loss = loss_fn(state_action_values, expected_state_action_values)\n",
        "\n",
        "    # Optimize the model\n",
        "    optimizer.zero_grad()\n",
        "    loss.backward()\n",
        "    # Apply gradient clipping (clip all the gradients greater than 2 for training stability)\n",
        "    nn.utils.clip_grad_norm_(policy_net.parameters(), 2)\n",
        "    optimizer.step()"
      ],
      "execution_count": null,
      "outputs": []
    },
    {
      "cell_type": "markdown",
      "metadata": {
        "id": "03Ab0RMB5CCC"
      },
      "source": [
        "### Training loop"
      ]
    },
    {
      "cell_type": "code",
      "metadata": {
        "id": "WF6Zf53FoRDZ",
        "colab": {
          "base_uri": "https://localhost:8080/",
          "height": 563,
          "referenced_widgets": [
            "1392192d13b84eecaa5b35efa65129f9",
            "b24ff5ee82964d64b49f33cd896ead41",
            "b398e9d8c9644adeb22bb7c859a417b8",
            "610022ca0d7740a3990d23d6cb98df7a",
            "5f634e2c62d04ac18442bd0f952006d6",
            "d8f574ec45b444298daa2f404377621b",
            "bbfc4b528c1e45a6bf696bc14f0cef3c",
            "1a9a30656a7e4c40a32d1f3468a2a34f"
          ]
        },
        "outputId": "25e40f05-796d-40ce-d581-0bcac9e26ccb"
      },
      "source": [
        "# Initialize the Gym environment\n",
        "env = gym.make('CartPole-v1') \n",
        "env.seed(0) # Set a random seed for the environment (reproducible results)\n",
        "# This is for creating the output video in Colab, not required outside Colab\n",
        "#env = wrap_env(env, video_callable=lambda episode_id: episode_id % 100 == 0) # Save a video every 100 episodes\n",
        "scores_str = []\n",
        "for episode_num, tau in enumerate(tqdm(exp_profile_strange)):\n",
        "\n",
        "    # Reset the environment and get the initial state\n",
        "    state = env.reset()\n",
        "    # Reset the score. The final score will be the total amount of steps before the pole falls\n",
        "    score = 0\n",
        "    done = False\n",
        "\n",
        "    # Go on until the pole falls off\n",
        "    while not done:\n",
        "      # Choose the action following the policy\n",
        "      action, q_values = choose_action_softmax(policy_net, state, temperature=tau)\n",
        "      \n",
        "      # Apply the action and get the next state, the reward and a flag \"done\" that is True if the game is ended\n",
        "      next_state, reward, done, info = env.step(action)\n",
        "\n",
        "      # We apply a (linear) penalty when the cart is far from center\n",
        "      pos_weight = 1\n",
        "      reward = reward - pos_weight * np.abs(state[0]) \n",
        "\n",
        "      # Update the final score (+1 for each step)\n",
        "      score += 1\n",
        "\n",
        "      # Apply penalty for bad state\n",
        "      if done: # if the pole has fallen down \n",
        "          reward += bad_state_penalty\n",
        "          next_state = None\n",
        "\n",
        "      # Update the replay memory\n",
        "      replay_mem.push(state, action, next_state, reward)\n",
        "\n",
        "      # Update the network\n",
        "      if len(replay_mem) > min_samples_for_training: # we enable the training only if we have enough samples in the replay memory, otherwise the training will use the same samples too often\n",
        "          update_step(policy_net, target_net, replay_mem, gamma, optimizer, loss_fn, batch_size)\n",
        "\n",
        "      # Visually render the environment (disable to speed up the training)\n",
        "      #env.render()\n",
        "\n",
        "      # Set the current state for the next iteration\n",
        "      state = next_state\n",
        "\n",
        "    # Update the target network every target_net_update_steps episodes\n",
        "    if episode_num % target_net_update_steps == 0:\n",
        "        #print('Updating target network...')\n",
        "        target_net.load_state_dict(policy_net.state_dict()) # This will copy the weights of the policy network to the target network\n",
        "\n",
        "    # Print the final score\n",
        "    scores_str.append(score)\n",
        "    #print(f\"EPISODE: {episode_num + 1} - FINAL SCORE: {score} - Temperature: {tau}\") # Print the final score\n",
        "\n",
        "env.close()\n",
        "### Plot exp exploration profile\n",
        "plt.figure(figsize=(12,8))\n",
        "plt.plot(scores_l, label='exp profile scores')\n",
        "plt.plot(scores_m, label='exp profile scores')\n",
        "plt.plot(scores_s, label='exp profile scores')\n",
        "plt.plot(scores_str, label='modified exp profile scores')\n",
        "plt.legend()\n",
        "plt.grid()\n",
        "plt.xlabel('Iteration')\n",
        "plt.ylabel('Scores')"
      ],
      "execution_count": null,
      "outputs": [
        {
          "output_type": "display_data",
          "data": {
            "application/vnd.jupyter.widget-view+json": {
              "model_id": "1392192d13b84eecaa5b35efa65129f9",
              "version_minor": 0,
              "version_major": 2
            },
            "text/plain": [
              "HBox(children=(FloatProgress(value=0.0, max=250.0), HTML(value='')))"
            ]
          },
          "metadata": {
            "tags": []
          }
        },
        {
          "output_type": "stream",
          "text": [
            "\n"
          ],
          "name": "stdout"
        },
        {
          "output_type": "execute_result",
          "data": {
            "text/plain": [
              "Text(0, 0.5, 'Scores')"
            ]
          },
          "metadata": {
            "tags": []
          },
          "execution_count": 304
        },
        {
          "output_type": "display_data",
          "data": {
            "image/png": "[encoded data removed]",
            "text/plain": [
              "<Figure size 864x576 with 1 Axes>"
            ]
          },
          "metadata": {
            "tags": [],
            "needs_background": "light"
          }
        }
      ]
    },
    {
      "cell_type": "markdown",
      "metadata": {
        "id": "JkG9iDZTIhzc"
      },
      "source": [
        "## Final test"
      ]
    },
    {
      "cell_type": "code",
      "metadata": {
        "id": "vJKgnu3_IjWE",
        "colab": {
          "base_uri": "https://localhost:8080/"
        },
        "outputId": "13a2b154-96fb-49a6-ad9c-bdf0de5320cf"
      },
      "source": [
        "# Initialize the Gym environment\n",
        "env = gym.make('CartPole-v1') \n",
        "env.seed(1) # Set a random seed for the environment (reproducible results)\n",
        "\n",
        "# This is for creating the output video in Colab, not required outside Colab\n",
        "#env = wrap_env(env, video_callable=lambda episode_id: True) # Save a video every episode\n",
        "\n",
        "# Let's try for a total of 10 episodes\n",
        "for num_episode in range(10): \n",
        "    # Reset the environment and get the initial state\n",
        "    state = env.reset()\n",
        "    # Reset the score. The final score will be the total amount of steps before the pole falls\n",
        "    score = 0\n",
        "    done = False\n",
        "    # Go on until the pole falls off or the score reach 490\n",
        "    while not done:\n",
        "      # Choose the best action (temperature 0)\n",
        "      action, q_values = choose_action_softmax(policy_net, state, temperature=0)\n",
        "      # Apply the action and get the next state, the reward and a flag \"done\" that is True if the game is ended\n",
        "      next_state, reward, done, info = env.step(action)\n",
        "      # Visually render the environment\n",
        "      #env.render()\n",
        "      # Update the final score (+1 for each step)\n",
        "      score += reward \n",
        "      # Set the current state for the next iteration\n",
        "      state = next_state\n",
        "      # Check if the episode ended (the pole fell down)\n",
        "    # Print the final score\n",
        "    print(f\"EPISODE {num_episode + 1} - FINAL SCORE: {score}\") \n",
        "env.close()"
      ],
      "execution_count": null,
      "outputs": [
        {
          "output_type": "stream",
          "text": [
            "EPISODE 1 - FINAL SCORE: 500.0\n",
            "EPISODE 2 - FINAL SCORE: 500.0\n",
            "EPISODE 3 - FINAL SCORE: 500.0\n",
            "EPISODE 4 - FINAL SCORE: 500.0\n",
            "EPISODE 5 - FINAL SCORE: 500.0\n",
            "EPISODE 6 - FINAL SCORE: 500.0\n",
            "EPISODE 7 - FINAL SCORE: 500.0\n",
            "EPISODE 8 - FINAL SCORE: 500.0\n",
            "EPISODE 9 - FINAL SCORE: 500.0\n",
            "EPISODE 10 - FINAL SCORE: 500.0\n"
          ],
          "name": "stdout"
        }
      ]
    }
  ]
}