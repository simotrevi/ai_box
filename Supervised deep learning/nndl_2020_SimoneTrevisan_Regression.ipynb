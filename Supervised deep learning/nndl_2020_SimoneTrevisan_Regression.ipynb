{
  "nbformat": 4,
  "nbformat_minor": 0,
  "metadata": {
    "colab": {
      "name": "nndl_2020__homework_1_regression (2).ipynb",
      "provenance": [],
      "collapsed_sections": []
    },
    "kernelspec": {
      "display_name": "Python 3",
      "language": "python",
      "name": "python3"
    },
    "language_info": {
      "codemirror_mode": {
        "name": "ipython",
        "version": 3
      },
      "file_extension": ".py",
      "mimetype": "text/x-python",
      "name": "python",
      "nbconvert_exporter": "python",
      "pygments_lexer": "ipython3",
      "version": "3.7.3"
    },
    "accelerator": "GPU"
  },
  "cells": [
    {
      "cell_type": "markdown",
      "metadata": {
        "id": "zYncZVOyF8Rb"
      },
      "source": [
        "#NEURAL NETWORKS AND DEEP LEARNING\n",
        "> M.Sc. ICT FOR LIFE AND HEALTH\n",
        "> \n",
        "> Department of Information Engineering\n",
        "\n",
        "> M.Sc. COMPUTER ENGINEERING\n",
        ">\n",
        "> Department of Information Engineering\n",
        "\n",
        "> M.Sc. AUTOMATION ENGINEERING\n",
        ">\n",
        "> Department of Information Engineering\n",
        " \n",
        "> M.Sc. PHYSICS OF DATA\n",
        ">\n",
        "> Department of Physics and Astronomy\n",
        " \n",
        "> M.Sc. COGNITIVE NEUROSCIENCE AND CLINICAL NEUROPSYCHOLOGY\n",
        ">\n",
        "> Department of General Psychology\n",
        "\n",
        "---\n",
        "A.A. 2020/21 (6 CFU) - Dr. Alberto Testolin, Dr. Matteo Gadaleta\n",
        "---\n"
      ]
    },
    {
      "cell_type": "markdown",
      "metadata": {
        "id": "AgHJFDwYvgHg"
      },
      "source": [
        "# Homework 1 - Supervised Deep Learning\r\n",
        "\r\n",
        "## Simone Trevisan 1238612"
      ]
    },
    {
      "cell_type": "markdown",
      "metadata": {
        "id": "rZCClsi8vrYi"
      },
      "source": [
        "# Regression task"
      ]
    },
    {
      "cell_type": "markdown",
      "metadata": {
        "id": "JpHoPt5nyocz"
      },
      "source": [
        "## Dataset"
      ]
    },
    {
      "cell_type": "code",
      "metadata": {
        "id": "3ViQh-gfzxNH"
      },
      "source": [
        "import pandas as pd\n",
        "import matplotlib.pyplot as plt\n",
        "import numpy as np\n",
        "import math\n",
        "\n",
        "import torch\n",
        "import torch.nn as nn\n",
        "import torch.optim as optim\n",
        "from torch.utils.data import Dataset, DataLoader, random_split, ConcatDataset,ChainDataset\n",
        "from torchvision import transforms\n",
        "from sklearn.model_selection import KFold"
      ],
      "execution_count": null,
      "outputs": []
    },
    {
      "cell_type": "code",
      "metadata": {
        "id": "QXCqDgEsvt96",
        "colab": {
          "base_uri": "https://localhost:8080/"
        },
        "outputId": "0426a1bd-16a5-4a02-83cd-7cdb71dadf2a"
      },
      "source": [
        "!wget -P regression_dataset https://gitlab.dei.unipd.it/gadaleta/nnld-2020-21-lab-resources/-/raw/master/homework_1_regression_dataset/train_data.csv\n",
        "!wget -P regression_dataset https://gitlab.dei.unipd.it/gadaleta/nnld-2020-21-lab-resources/-/raw/master/homework_1_regression_dataset/test_data.csv "
      ],
      "execution_count": null,
      "outputs": [
        {
          "output_type": "stream",
          "text": [
            "--2020-12-28 16:59:27--  https://gitlab.dei.unipd.it/gadaleta/nnld-2020-21-lab-resources/-/raw/master/homework_1_regression_dataset/train_data.csv\n",
            "Resolving gitlab.dei.unipd.it (gitlab.dei.unipd.it)... 147.162.2.85\n",
            "Connecting to gitlab.dei.unipd.it (gitlab.dei.unipd.it)|147.162.2.85|:443... connected.\n",
            "HTTP request sent, awaiting response... 200 OK\n",
            "Length: 3776 (3.7K) [text/plain]\n",
            "Saving to: ‘regression_dataset/train_data.csv.1’\n",
            "\n",
            "train_data.csv.1    100%[===================>]   3.69K  --.-KB/s    in 0s      \n",
            "\n",
            "2020-12-28 16:59:27 (75.5 MB/s) - ‘regression_dataset/train_data.csv.1’ saved [3776/3776]\n",
            "\n",
            "--2020-12-28 16:59:27--  https://gitlab.dei.unipd.it/gadaleta/nnld-2020-21-lab-resources/-/raw/master/homework_1_regression_dataset/test_data.csv\n",
            "Resolving gitlab.dei.unipd.it (gitlab.dei.unipd.it)... 147.162.2.85\n",
            "Connecting to gitlab.dei.unipd.it (gitlab.dei.unipd.it)|147.162.2.85|:443... connected.\n",
            "HTTP request sent, awaiting response... 200 OK\n",
            "Length: 3788 (3.7K) [text/plain]\n",
            "Saving to: ‘regression_dataset/test_data.csv.1’\n",
            "\n",
            "test_data.csv.1     100%[===================>]   3.70K  --.-KB/s    in 0s      \n",
            "\n",
            "2020-12-28 16:59:28 (82.2 MB/s) - ‘regression_dataset/test_data.csv.1’ saved [3788/3788]\n",
            "\n"
          ],
          "name": "stdout"
        }
      ]
    },
    {
      "cell_type": "code",
      "metadata": {
        "id": "a-FdEP-JxwEu"
      },
      "source": [
        "train_df = pd.read_csv('regression_dataset/train_data.csv')\n",
        "test_df = pd.read_csv('regression_dataset/test_data.csv')"
      ],
      "execution_count": null,
      "outputs": []
    },
    {
      "cell_type": "markdown",
      "metadata": {
        "id": "UgH9AOL8yAak"
      },
      "source": [
        "How to get a specific sample:"
      ]
    },
    {
      "cell_type": "code",
      "metadata": {
        "id": "Gz8mOEUcyJdw",
        "colab": {
          "base_uri": "https://localhost:8080/"
        },
        "outputId": "453b1259-0659-46bc-8ecf-c70db72b4db0"
      },
      "source": [
        "sample_index = 0\n",
        "input = train_df.iloc[sample_index]['input']\n",
        "label = train_df.iloc[sample_index]['label']\n",
        "\n",
        "print(f\"SAMPLE AT INDEX {sample_index}\")\n",
        "print(f\"INPUT: {input}\")\n",
        "print(f\"LABEL: {label}\")"
      ],
      "execution_count": null,
      "outputs": [
        {
          "output_type": "stream",
          "text": [
            "SAMPLE AT INDEX 0\n",
            "INPUT: -4.787870188090535\n",
            "LABEL: -1.216803599957529\n"
          ],
          "name": "stdout"
        }
      ]
    },
    {
      "cell_type": "markdown",
      "metadata": {
        "id": "o4FMs2rmzXps"
      },
      "source": [
        "All training points:"
      ]
    },
    {
      "cell_type": "code",
      "metadata": {
        "id": "EXc_6w24zFEB",
        "colab": {
          "base_uri": "https://localhost:8080/",
          "height": 497
        },
        "outputId": "7717cb5c-5170-441d-d4bf-a91f6618d443"
      },
      "source": [
        "fig = plt.figure(figsize=(12,8))\n",
        "plt.scatter(train_df.input, train_df.label, label='Training points')\n",
        "plt.scatter(test_df.input, test_df.label, label='Test points')\n",
        "plt.xlabel('input')\n",
        "plt.ylabel('label')\n",
        "plt.legend()\n",
        "plt.show()"
      ],
      "execution_count": null,
      "outputs": [
        {
          "output_type": "display_data",
          "data": {
            "image/png": "[encoded data removed]",
            "text/plain": [
              "<Figure size 864x576 with 1 Axes>"
            ]
          },
          "metadata": {
            "tags": [],
            "needs_background": "light"
          }
        }
      ]
    },
    {
      "cell_type": "markdown",
      "metadata": {
        "id": "40yGRD9_Ibpq"
      },
      "source": [
        "**Dataset**"
      ]
    },
    {
      "cell_type": "code",
      "metadata": {
        "id": "nchZhle7Iacc"
      },
      "source": [
        "class CsvDataset(Dataset):\n",
        "\n",
        "  def __init__(self, csv_file, transform=None):\n",
        "    \"\"\"\n",
        "    Args:\n",
        "        csv_file (string): Path to the csv file.\n",
        "        transform (callable, optional): Optional transform to be applied\n",
        "            on a sample.\n",
        "    \"\"\"\n",
        "    self.transform = transform\n",
        "    # Read the file and split the lines in a list\n",
        "    with open(csv_file, 'r') as f:\n",
        "      lines = f.read().split('\\n')\n",
        "    # Get x and y values from each line and append to self.data\n",
        "    self.data = []\n",
        "    skip_first_line = 1\n",
        "    for line in lines:\n",
        "      if skip_first_line:\n",
        "        skip_first_line = 0\n",
        "        continue\n",
        "      sample = line.split(',')\n",
        "      if (not sample[0]) or (not (sample[1])):\n",
        "        continue\n",
        "      self.data.append((float(sample[0]), float(sample[1])))\n",
        "    # Now self.data contains all our dataset.\n",
        "    # Each element of the list self.data is a tuple: (input, output)\n",
        "\n",
        "  def __len__(self):\n",
        "    # The length of the dataset is simply the length of the self.data list\n",
        "    return len(self.data)\n",
        "\n",
        "  def __getitem__(self, idx):\n",
        "    # Our sample is the element idx of the list self.data\n",
        "    sample = self.data[idx]\n",
        "    if self.transform:\n",
        "        sample = self.transform(sample)\n",
        "    return sample\n",
        "\n",
        "  def __random_split__(self,k):\n",
        "    random_split(self,k)\n",
        "\n",
        "class ToTensor(object):\n",
        "    \"\"\"Convert sample to Tensors.\"\"\"\n",
        "\n",
        "    def __call__(self, sample):\n",
        "        x, y = sample\n",
        "        return (torch.tensor([x]).float(),\n",
        "                torch.tensor([y]).float())\n",
        "        \n",
        "composed_transform = transforms.Compose([ToTensor()])\n",
        "\n",
        "train_dataset = CsvDataset('regression_dataset/train_data.csv', transform=composed_transform)\n",
        "test_dataset = CsvDataset('regression_dataset/test_data.csv', transform=composed_transform)"
      ],
      "execution_count": null,
      "outputs": []
    },
    {
      "cell_type": "markdown",
      "metadata": {
        "id": "i_daXFGp8qEI"
      },
      "source": [
        "## Network Definition"
      ]
    },
    {
      "cell_type": "code",
      "metadata": {
        "id": "y4HB83ZW8o8g"
      },
      "source": [
        "class Net(nn.Module):\n",
        "    \n",
        "    def __init__(self, Ni, Nh1, Nh2, Nh3, No):\n",
        "        \"\"\"\n",
        "        Ni - Input size\n",
        "        Nh1 - Neurons in the 1st hidden layer\n",
        "        Nh2 - Neurons in the 2nd hidden layer\n",
        "        No - Output size\n",
        "        \"\"\"\n",
        "        super().__init__()\n",
        "        \n",
        "        #print('Network initialized')\n",
        "        self.fc1 = nn.Linear(in_features=Ni, out_features=Nh1)\n",
        "        self.do1 = nn.Dropout(p=0.0)\n",
        "        self.fc2 = nn.Linear(in_features=Nh1, out_features=Nh2)\n",
        "        self.do2 = nn.Dropout(p=0.0)\n",
        "        self.fc3 = nn.Linear(in_features=Nh2, out_features=Nh3)\n",
        "        self.do3 = nn.Dropout(p=0.0)\n",
        "        self.out = nn.Linear(in_features=Nh3, out_features=No)\n",
        "        self.act1 = nn.SELU()\n",
        "        self.act2 = nn.Sigmoid()\n",
        "\n",
        "        #weight initialization\n",
        "        nn.init.kaiming_uniform_(self.fc1.weight.data, a=0, mode='fan_in')\n",
        "        nn.init.normal_(self.fc2.weight.data, mean=0.0, std=1.0)\n",
        "        nn.init.normal_(self.fc3.weight.data, mean=0.0, std=1.0)\n",
        "        nn.init.normal_(self.out.weight.data, mean=0.0, std=1.0)\n",
        "\n",
        "        \n",
        "    def forward(self, x, additional_out=False):\n",
        "        x = self.act1(self.do1(self.fc1(x)))\n",
        "        x = self.act2(self.do2(self.fc3(x)))\n",
        "        x = self.out(x)\n",
        "\n",
        "        return x"
      ],
      "execution_count": null,
      "outputs": []
    },
    {
      "cell_type": "code",
      "metadata": {
        "id": "opgjqths_DBK",
        "colab": {
          "base_uri": "https://localhost:8080/"
        },
        "outputId": "35737750-20b8-4b7d-b7f8-454ba7635a0f"
      },
      "source": [
        "# Check if the GPU is available\n",
        "device = torch.device(\"cuda\") if torch.cuda.is_available() else torch.device(\"cpu\")\n",
        "print(f\"Training device: {device}\")\n",
        "\n",
        "# Initialize the network\n",
        "torch.manual_seed(0)\n",
        "Ni = 1\n",
        "Nh1 = 16 #50 #64\n",
        "Nh2 = 16#200 #64\n",
        "Nh3 = 64 #50 #32\n",
        "No = 1\n",
        "net = Net(Ni, Nh1, Nh2, Nh3, No)\n",
        "net.to(device)\n",
        "\n",
        "# Define the loss function\n",
        "loss_fn = nn.MSELoss()\n"
      ],
      "execution_count": null,
      "outputs": [
        {
          "output_type": "stream",
          "text": [
            "Training device: cuda\n"
          ],
          "name": "stdout"
        }
      ]
    },
    {
      "cell_type": "code",
      "metadata": {
        "id": "rZmjbA93_fpD",
        "colab": {
          "base_uri": "https://localhost:8080/"
        },
        "outputId": "571a8086-61a9-47e6-a04f-7f75d358494c"
      },
      "source": [
        "from torchsummary import summary\n",
        "\n",
        "summary(net, input_size=(1, 1, 1))"
      ],
      "execution_count": null,
      "outputs": [
        {
          "output_type": "stream",
          "text": [
            "----------------------------------------------------------------\n",
            "        Layer (type)               Output Shape         Param #\n",
            "================================================================\n",
            "            Linear-1             [-1, 1, 1, 16]              32\n",
            "           Dropout-2             [-1, 1, 1, 16]               0\n",
            "              SELU-3             [-1, 1, 1, 16]               0\n",
            "            Linear-4             [-1, 1, 1, 64]           1,088\n",
            "           Dropout-5             [-1, 1, 1, 64]               0\n",
            "           Sigmoid-6             [-1, 1, 1, 64]               0\n",
            "            Linear-7              [-1, 1, 1, 1]              65\n",
            "================================================================\n",
            "Total params: 1,185\n",
            "Trainable params: 1,185\n",
            "Non-trainable params: 0\n",
            "----------------------------------------------------------------\n",
            "Input size (MB): 0.00\n",
            "Forward/backward pass size (MB): 0.00\n",
            "Params size (MB): 0.00\n",
            "Estimated Total Size (MB): 0.01\n",
            "----------------------------------------------------------------\n"
          ],
          "name": "stdout"
        }
      ]
    },
    {
      "cell_type": "markdown",
      "metadata": {
        "id": "d_ftm_3sAcq0"
      },
      "source": [
        "## Training"
      ]
    },
    {
      "cell_type": "markdown",
      "metadata": {
        "id": "Y05x6Mtyq0BH"
      },
      "source": [
        "**Plot losses:**"
      ]
    },
    {
      "cell_type": "code",
      "metadata": {
        "id": "SSR-j8cAR-Fv"
      },
      "source": [
        "### TRAINING LOOP\n",
        "\n",
        "\n",
        "def hyperparameter_tuning(net, train_dataset, lr, decay, batchsize):\n",
        "  num_epochs = 5000\n",
        "\n",
        "  train_loss_log = []\n",
        "  val_loss_log = []\n",
        "  fold = 0\n",
        "\n",
        "  kf = KFold(n_splits=5, shuffle=False)\n",
        "  for train_index, val_index in kf.split(train_dataset):\n",
        "    t_loss_log = []\n",
        "    v_loss_log = []\n",
        "    X_train = [train_dataset[t] for t in train_index]\n",
        "    X_val = [train_dataset[v] for v in val_index]\n",
        "    val_dataloader  = DataLoader(X_val,  batch_size=len(X_val), shuffle=False, num_workers=0)\n",
        "    train_dataloader  = DataLoader(X_train,  batch_size=batchsize, shuffle=False, num_workers=0)\n",
        "\n",
        "    net = Net(Ni, Nh1, Nh2, Nh3, No)\n",
        "    net.to(device)\n",
        "    optimizer = optim.Adam(net.parameters(), lr= lr, weight_decay=decay)\n",
        "\n",
        "    flag = 1\n",
        "    cnt = 0\n",
        "    min_loss = math.inf\n",
        "\n",
        "    for epoch_num in range(num_epochs):\n",
        "\n",
        "      ### TRAIN\n",
        "      epoch_loss= []\n",
        "      net.train() # Training mode (e.g. enable dropout)\n",
        "      for sample_batched in train_dataloader:\n",
        "          # Move data to device\n",
        "          x_batch = sample_batched[0].to(device)\n",
        "          label_batch = sample_batched[1].to(device)\n",
        "\n",
        "          # Forward pass\n",
        "          out = net(x_batch)\n",
        "\n",
        "          # Compute loss\n",
        "          loss = loss_fn(out, label_batch)\n",
        "\n",
        "          # Backpropagation\n",
        "          net.zero_grad()\n",
        "          loss.backward()\n",
        "\n",
        "          # Update the weights\n",
        "          optimizer.step()\n",
        "\n",
        "          # Save train loss for this batch\n",
        "          loss_batch = loss.detach().cpu().numpy()\n",
        "          epoch_loss.append(loss_batch)\n",
        "\n",
        "      # Save average train loss\n",
        "      epoch_loss = np.mean(epoch_loss)\n",
        "      t_loss_log.append(epoch_loss)\n",
        "\n",
        "      ### VALIDATION\n",
        "      val_loss= []\n",
        "      net.eval() # Evaluation mode (e.g. disable dropout)\n",
        "      with torch.no_grad(): # Disable gradient tracking\n",
        "        for sample_batched in val_dataloader:\n",
        "          # Move data to device\n",
        "          x_batch = sample_batched[0].to(device)\n",
        "          label_batch = sample_batched[1].to(device)\n",
        "\n",
        "          # Forward pass\n",
        "          out = net(x_batch)\n",
        "\n",
        "          # Compute loss\n",
        "          loss = loss_fn(out, label_batch)\n",
        "\n",
        "          # Save val loss for this batch\n",
        "          loss_batch = loss.detach().cpu().numpy()\n",
        "          val_loss.append(loss_batch)\n",
        "\n",
        "      # Save average validation loss\n",
        "      val_loss = np.mean(val_loss)\n",
        "      v_loss_log.append(val_loss)\n",
        "\n",
        "      # Early stopping\n",
        "      if val_loss < min_loss:\n",
        "        min_loss = val_loss\n",
        "\n",
        "\n",
        "\n",
        "    # Save min val loss\n",
        "    val_loss_log.append(min_loss)\n",
        "    fold += 1\n",
        "\n",
        "  results = {\n",
        "      \"lr\" : lr,\n",
        "      \"decay\" : decay,\n",
        "      \"batchsize\" : batchsize,\n",
        "      \"mean val loss\" : np.mean(val_loss_log)\n",
        "  }\n",
        "\n",
        "  return results\n"
      ],
      "execution_count": null,
      "outputs": []
    },
    {
      "cell_type": "code",
      "metadata": {
        "id": "5hZNHZDgpFrv"
      },
      "source": [
        "#hyperparameter_tuning(net, train_dataset, 1, 2, 3)\n",
        "lr_grid = [5e-4, 4e-4, 6e-4]\n",
        "decay_grid = [13e-4, 15e-4, 17e-4]\n",
        "batchsize_grid = [50]\n",
        "models = []\n",
        "\n",
        "for lr in lr_grid:\n",
        "  for decay in decay_grid:\n",
        "    for batchsize in batchsize_grid:\n",
        "      ris = hyperparameter_tuning(net, train_dataset, lr, decay, batchsize)\n",
        "      models.append(ris)"
      ],
      "execution_count": null,
      "outputs": []
    },
    {
      "cell_type": "code",
      "metadata": {
        "colab": {
          "base_uri": "https://localhost:8080/"
        },
        "id": "369CE3XJyGTx",
        "outputId": "66b2ebef-4cbf-41fb-ad14-a6e1c4b7ae97"
      },
      "source": [
        "models = sorted(models, key=lambda k: k['mean val loss'])\n",
        "print(models)\n",
        "best_model = models[0]\n",
        "best_model"
      ],
      "execution_count": null,
      "outputs": [
        {
          "output_type": "stream",
          "text": [
            "[{'lr': 0.0004, 'decay': 0.0015, 'batchsize': 50, 'mean val loss': 0.28660506}, {'lr': 0.0006, 'decay': 0.0013, 'batchsize': 50, 'mean val loss': 0.34755296}, {'lr': 0.0004, 'decay': 0.0013, 'batchsize': 50, 'mean val loss': 0.3514977}, {'lr': 0.0006, 'decay': 0.0015, 'batchsize': 50, 'mean val loss': 0.37236625}, {'lr': 0.0004, 'decay': 0.0017, 'batchsize': 50, 'mean val loss': 0.39797226}, {'lr': 0.0005, 'decay': 0.0013, 'batchsize': 50, 'mean val loss': 0.39838514}, {'lr': 0.0005, 'decay': 0.0017, 'batchsize': 50, 'mean val loss': 0.5022294}, {'lr': 0.0005, 'decay': 0.0015, 'batchsize': 50, 'mean val loss': 0.57170856}, {'lr': 0.0006, 'decay': 0.0017, 'batchsize': 50, 'mean val loss': 0.97791195}]\n"
          ],
          "name": "stdout"
        },
        {
          "output_type": "execute_result",
          "data": {
            "text/plain": [
              "{'batchsize': 50, 'decay': 0.0015, 'lr': 0.0004, 'mean val loss': 0.28660506}"
            ]
          },
          "metadata": {
            "tags": []
          },
          "execution_count": 72
        }
      ]
    },
    {
      "cell_type": "code",
      "metadata": {
        "id": "mccAmM73Edgq"
      },
      "source": [
        "#best_model = {'batchsize': 50, 'decay': 0.0015, 'lr': 0.0004, 'mean val loss': 0.28660506}"
      ],
      "execution_count": null,
      "outputs": []
    },
    {
      "cell_type": "code",
      "metadata": {
        "colab": {
          "base_uri": "https://localhost:8080/"
        },
        "id": "BNJlHM0RxvSv",
        "outputId": "177180d6-8362-4f63-ec45-706ac5cf1063"
      },
      "source": [
        "### TRAINING LOOP\n",
        "\n",
        "num_epochs = 50000\n",
        "flag = 1\n",
        "flag2 = 1\n",
        "train_loss_log = []\n",
        "\n",
        "train_dataloader  = DataLoader(train_dataset,  batch_size=best_model[\"batchsize\"], shuffle=True, num_workers=0)\n",
        "net = Net(Ni, Nh1, Nh2, Nh3, No)\n",
        "net.to(device)\n",
        "optimizer = optim.Adam(net.parameters(), lr= best_model[\"lr\"], weight_decay=best_model[\"decay\"])\n",
        "\n",
        "\n",
        "\n",
        "for epoch_num in range(num_epochs):\n",
        "\n",
        "  ### TRAIN\n",
        "  epoch_loss= []\n",
        "  net.train() # Training mode (e.g. enable dropout)\n",
        "  for sample_batched in train_dataloader:\n",
        "      # Move data to device\n",
        "      x_batch = sample_batched[0].to(device)\n",
        "      label_batch = sample_batched[1].to(device)\n",
        "\n",
        "      # Forward pass\n",
        "      out = net(x_batch)\n",
        "\n",
        "      # Compute loss\n",
        "      loss = loss_fn(out, label_batch)\n",
        "\n",
        "      # Backpropagation\n",
        "      net.zero_grad()\n",
        "      loss.backward()\n",
        "\n",
        "      # Update the weights\n",
        "      optimizer.step()\n",
        "\n",
        "      # Save train loss for this batch\n",
        "      loss_batch = loss.detach().cpu().numpy()\n",
        "      epoch_loss.append(loss_batch)\n",
        "\n",
        "  # Save average train loss\n",
        "  epoch_loss = np.mean(epoch_loss)\n",
        "  if not epoch_num%200:\n",
        "    print(f\"TRAIN LOSS: {epoch_loss}\")\n",
        "  train_loss_log.append(epoch_loss)\n",
        "\n",
        "     # Early stopping\n",
        "  if epoch_loss < 0.195 and flag:\n",
        "    #scheduler = torch.optim.lr_scheduler.StepLR(optimizer, step_size=10, gamma=0.5) \n",
        "    #scheduler.step()\n",
        "    #optimizer = optim.Adagrad(net.parameters(), lr= best_model[\"lr\"]/10, weight_decay=best_model[\"decay\"]*2)\n",
        "    flag = 0\n",
        "  if epoch_loss < 0.180 and not(flag2):\n",
        "    scheduler = torch.optim.lr_scheduler.StepLR(optimizer, step_size=1, gamma=0.01) \n",
        "    scheduler.step()\n",
        "    flag2 = 0\n"
      ],
      "execution_count": null,
      "outputs": [
        {
          "output_type": "stream",
          "text": [
            "TRAIN LOSS: 32.64984130859375\n",
            "TRAIN LOSS: 1.5586479902267456\n",
            "TRAIN LOSS: 1.105459451675415\n",
            "TRAIN LOSS: 0.9209275245666504\n",
            "TRAIN LOSS: 0.6766196489334106\n",
            "TRAIN LOSS: 0.48942285776138306\n",
            "TRAIN LOSS: 0.4186074733734131\n",
            "TRAIN LOSS: 0.3614414632320404\n",
            "TRAIN LOSS: 0.3240032196044922\n",
            "TRAIN LOSS: 0.2832486033439636\n",
            "TRAIN LOSS: 0.2655380368232727\n",
            "TRAIN LOSS: 0.2508888840675354\n",
            "TRAIN LOSS: 0.23964345455169678\n",
            "TRAIN LOSS: 0.23137632012367249\n",
            "TRAIN LOSS: 0.2249264121055603\n",
            "TRAIN LOSS: 0.21817147731781006\n",
            "TRAIN LOSS: 0.21478265523910522\n",
            "TRAIN LOSS: 0.21184220910072327\n",
            "TRAIN LOSS: 0.209314227104187\n",
            "TRAIN LOSS: 0.20730307698249817\n",
            "TRAIN LOSS: 0.20540490746498108\n",
            "TRAIN LOSS: 0.2040664404630661\n",
            "TRAIN LOSS: 0.20301871001720428\n",
            "TRAIN LOSS: 0.2022346407175064\n",
            "TRAIN LOSS: 0.201274573802948\n",
            "TRAIN LOSS: 0.20148253440856934\n",
            "TRAIN LOSS: 0.19986796379089355\n",
            "TRAIN LOSS: 0.19971579313278198\n",
            "TRAIN LOSS: 0.19980934262275696\n",
            "TRAIN LOSS: 0.19823434948921204\n",
            "TRAIN LOSS: 0.19894227385520935\n",
            "TRAIN LOSS: 0.19745200872421265\n",
            "TRAIN LOSS: 0.19922620058059692\n",
            "TRAIN LOSS: 0.19792135059833527\n",
            "TRAIN LOSS: 0.1993059366941452\n",
            "TRAIN LOSS: 0.19713309407234192\n",
            "TRAIN LOSS: 0.19732657074928284\n",
            "TRAIN LOSS: 0.1963755190372467\n",
            "TRAIN LOSS: 0.19718781113624573\n",
            "TRAIN LOSS: 0.19791409373283386\n",
            "TRAIN LOSS: 0.19622978568077087\n",
            "TRAIN LOSS: 0.19581648707389832\n",
            "TRAIN LOSS: 0.19676852226257324\n",
            "TRAIN LOSS: 0.19577842950820923\n",
            "TRAIN LOSS: 0.19598683714866638\n",
            "TRAIN LOSS: 0.19531813263893127\n",
            "TRAIN LOSS: 0.19507557153701782\n",
            "TRAIN LOSS: 0.19544717669487\n",
            "TRAIN LOSS: 0.19521668553352356\n",
            "TRAIN LOSS: 0.19493308663368225\n",
            "TRAIN LOSS: 0.19555926322937012\n",
            "TRAIN LOSS: 0.19474536180496216\n",
            "TRAIN LOSS: 0.1944044828414917\n",
            "TRAIN LOSS: 0.19576066732406616\n",
            "TRAIN LOSS: 0.19528868794441223\n",
            "TRAIN LOSS: 0.19488665461540222\n",
            "TRAIN LOSS: 0.1940673291683197\n",
            "TRAIN LOSS: 0.19573543965816498\n",
            "TRAIN LOSS: 0.19498616456985474\n",
            "TRAIN LOSS: 0.19392496347427368\n",
            "TRAIN LOSS: 0.196188822388649\n",
            "TRAIN LOSS: 0.19385269284248352\n",
            "TRAIN LOSS: 0.19507572054862976\n",
            "TRAIN LOSS: 0.19401812553405762\n",
            "TRAIN LOSS: 0.19448858499526978\n",
            "TRAIN LOSS: 0.1947813630104065\n",
            "TRAIN LOSS: 0.19572290778160095\n",
            "TRAIN LOSS: 0.19389227032661438\n",
            "TRAIN LOSS: 0.19363802671432495\n",
            "TRAIN LOSS: 0.19360797107219696\n",
            "TRAIN LOSS: 0.19360347092151642\n",
            "TRAIN LOSS: 0.1942663937807083\n",
            "TRAIN LOSS: 0.1937876045703888\n",
            "TRAIN LOSS: 0.1937699019908905\n",
            "TRAIN LOSS: 0.19374442100524902\n",
            "TRAIN LOSS: 0.19465595483779907\n",
            "TRAIN LOSS: 0.19439786672592163\n",
            "TRAIN LOSS: 0.19488491117954254\n",
            "TRAIN LOSS: 0.19409342110157013\n",
            "TRAIN LOSS: 0.19370047748088837\n",
            "TRAIN LOSS: 0.19367234408855438\n",
            "TRAIN LOSS: 0.19363829493522644\n",
            "TRAIN LOSS: 0.19340822100639343\n",
            "TRAIN LOSS: 0.19445940852165222\n",
            "TRAIN LOSS: 0.19478166103363037\n",
            "TRAIN LOSS: 0.19336336851119995\n",
            "TRAIN LOSS: 0.19308030605316162\n",
            "TRAIN LOSS: 0.19356629252433777\n",
            "TRAIN LOSS: 0.19342903792858124\n",
            "TRAIN LOSS: 0.1935921013355255\n",
            "TRAIN LOSS: 0.19393956661224365\n",
            "TRAIN LOSS: 0.19356390833854675\n",
            "TRAIN LOSS: 0.19330425560474396\n",
            "TRAIN LOSS: 0.1935891956090927\n",
            "TRAIN LOSS: 0.1942669153213501\n",
            "TRAIN LOSS: 0.1941160261631012\n",
            "TRAIN LOSS: 0.19401797652244568\n",
            "TRAIN LOSS: 0.1943226456642151\n",
            "TRAIN LOSS: 0.19374556839466095\n",
            "TRAIN LOSS: 0.19341547787189484\n",
            "TRAIN LOSS: 0.1931099146604538\n",
            "TRAIN LOSS: 0.19315530359745026\n",
            "TRAIN LOSS: 0.19480040669441223\n",
            "TRAIN LOSS: 0.1934586763381958\n",
            "TRAIN LOSS: 0.19308730959892273\n",
            "TRAIN LOSS: 0.19326262176036835\n",
            "TRAIN LOSS: 0.19355827569961548\n",
            "TRAIN LOSS: 0.19320012629032135\n",
            "TRAIN LOSS: 0.19305898249149323\n",
            "TRAIN LOSS: 0.19463303685188293\n",
            "TRAIN LOSS: 0.19357456266880035\n",
            "TRAIN LOSS: 0.19314172863960266\n",
            "TRAIN LOSS: 0.1934317648410797\n",
            "TRAIN LOSS: 0.19306796789169312\n",
            "TRAIN LOSS: 0.19456997513771057\n",
            "TRAIN LOSS: 0.19346600770950317\n",
            "TRAIN LOSS: 0.19343425333499908\n",
            "TRAIN LOSS: 0.19553594291210175\n",
            "TRAIN LOSS: 0.1949463188648224\n",
            "TRAIN LOSS: 0.1936098039150238\n",
            "TRAIN LOSS: 0.1955031156539917\n",
            "TRAIN LOSS: 0.19309529662132263\n",
            "TRAIN LOSS: 0.1933966428041458\n",
            "TRAIN LOSS: 0.193909153342247\n",
            "TRAIN LOSS: 0.19366352260112762\n",
            "TRAIN LOSS: 0.19543515145778656\n",
            "TRAIN LOSS: 0.19335857033729553\n",
            "TRAIN LOSS: 0.19311845302581787\n",
            "TRAIN LOSS: 0.1941789984703064\n",
            "TRAIN LOSS: 0.19392234086990356\n",
            "TRAIN LOSS: 0.1944131851196289\n",
            "TRAIN LOSS: 0.19404131174087524\n",
            "TRAIN LOSS: 0.19404172897338867\n",
            "TRAIN LOSS: 0.1931966245174408\n",
            "TRAIN LOSS: 0.19487378001213074\n",
            "TRAIN LOSS: 0.19318318367004395\n",
            "TRAIN LOSS: 0.1933961808681488\n",
            "TRAIN LOSS: 0.1932450532913208\n",
            "TRAIN LOSS: 0.19342485070228577\n",
            "TRAIN LOSS: 0.19362765550613403\n",
            "TRAIN LOSS: 0.193772554397583\n",
            "TRAIN LOSS: 0.19385604560375214\n",
            "TRAIN LOSS: 0.19493336975574493\n",
            "TRAIN LOSS: 0.19351732730865479\n",
            "TRAIN LOSS: 0.19385293126106262\n",
            "TRAIN LOSS: 0.19356991350650787\n",
            "TRAIN LOSS: 0.1933577060699463\n",
            "TRAIN LOSS: 0.19357925653457642\n",
            "TRAIN LOSS: 0.19453221559524536\n",
            "TRAIN LOSS: 0.19426444172859192\n",
            "TRAIN LOSS: 0.1936015486717224\n",
            "TRAIN LOSS: 0.19471785426139832\n",
            "TRAIN LOSS: 0.19354389607906342\n",
            "TRAIN LOSS: 0.19410665333271027\n",
            "TRAIN LOSS: 0.19347737729549408\n",
            "TRAIN LOSS: 0.19331017136573792\n",
            "TRAIN LOSS: 0.19341349601745605\n",
            "TRAIN LOSS: 0.19328436255455017\n",
            "TRAIN LOSS: 0.1935451328754425\n",
            "TRAIN LOSS: 0.19326740503311157\n",
            "TRAIN LOSS: 0.1936265230178833\n",
            "TRAIN LOSS: 0.1934938132762909\n",
            "TRAIN LOSS: 0.1933302879333496\n",
            "TRAIN LOSS: 0.1938459575176239\n",
            "TRAIN LOSS: 0.19456049799919128\n",
            "TRAIN LOSS: 0.1933489590883255\n",
            "TRAIN LOSS: 0.1935918927192688\n",
            "TRAIN LOSS: 0.193802148103714\n",
            "TRAIN LOSS: 0.19363096356391907\n",
            "TRAIN LOSS: 0.1936371773481369\n",
            "TRAIN LOSS: 0.19403710961341858\n",
            "TRAIN LOSS: 0.19616441428661346\n",
            "TRAIN LOSS: 0.1937848925590515\n",
            "TRAIN LOSS: 0.19366967678070068\n",
            "TRAIN LOSS: 0.19434180855751038\n",
            "TRAIN LOSS: 0.19464804232120514\n",
            "TRAIN LOSS: 0.1940256506204605\n",
            "TRAIN LOSS: 0.19407807290554047\n",
            "TRAIN LOSS: 0.19438546895980835\n",
            "TRAIN LOSS: 0.19367615878582\n",
            "TRAIN LOSS: 0.19456541538238525\n",
            "TRAIN LOSS: 0.19607703387737274\n",
            "TRAIN LOSS: 0.1956799030303955\n",
            "TRAIN LOSS: 0.19421102106571198\n",
            "TRAIN LOSS: 0.1950353980064392\n",
            "TRAIN LOSS: 0.19501623511314392\n",
            "TRAIN LOSS: 0.19404444098472595\n",
            "TRAIN LOSS: 0.19387583434581757\n",
            "TRAIN LOSS: 0.19466722011566162\n",
            "TRAIN LOSS: 0.1937890499830246\n",
            "TRAIN LOSS: 0.19405719637870789\n",
            "TRAIN LOSS: 0.19391417503356934\n",
            "TRAIN LOSS: 0.1947936862707138\n",
            "TRAIN LOSS: 0.19426453113555908\n",
            "TRAIN LOSS: 0.194754958152771\n",
            "TRAIN LOSS: 0.19471868872642517\n",
            "TRAIN LOSS: 0.19431468844413757\n",
            "TRAIN LOSS: 0.19390153884887695\n",
            "TRAIN LOSS: 0.1949463188648224\n",
            "TRAIN LOSS: 0.19508202373981476\n",
            "TRAIN LOSS: 0.19457685947418213\n",
            "TRAIN LOSS: 0.194435715675354\n",
            "TRAIN LOSS: 0.19521132111549377\n",
            "TRAIN LOSS: 0.19404830038547516\n",
            "TRAIN LOSS: 0.1946469247341156\n",
            "TRAIN LOSS: 0.19422513246536255\n",
            "TRAIN LOSS: 0.19400374591350555\n",
            "TRAIN LOSS: 0.19411811232566833\n",
            "TRAIN LOSS: 0.19506967067718506\n",
            "TRAIN LOSS: 0.19395267963409424\n",
            "TRAIN LOSS: 0.19451554119586945\n",
            "TRAIN LOSS: 0.194178968667984\n",
            "TRAIN LOSS: 0.1960594207048416\n",
            "TRAIN LOSS: 0.194963738322258\n",
            "TRAIN LOSS: 0.1943395435810089\n",
            "TRAIN LOSS: 0.1944686621427536\n",
            "TRAIN LOSS: 0.1950511336326599\n",
            "TRAIN LOSS: 0.19494511187076569\n",
            "TRAIN LOSS: 0.1939719170331955\n",
            "TRAIN LOSS: 0.19410762190818787\n",
            "TRAIN LOSS: 0.19426661729812622\n",
            "TRAIN LOSS: 0.19430768489837646\n",
            "TRAIN LOSS: 0.1949220895767212\n",
            "TRAIN LOSS: 0.19482260942459106\n",
            "TRAIN LOSS: 0.19500374794006348\n",
            "TRAIN LOSS: 0.1962803304195404\n",
            "TRAIN LOSS: 0.19573071599006653\n",
            "TRAIN LOSS: 0.19456607103347778\n",
            "TRAIN LOSS: 0.19525907933712006\n",
            "TRAIN LOSS: 0.1941167563199997\n",
            "TRAIN LOSS: 0.1956997513771057\n",
            "TRAIN LOSS: 0.19538244605064392\n",
            "TRAIN LOSS: 0.1962399184703827\n",
            "TRAIN LOSS: 0.19423121213912964\n",
            "TRAIN LOSS: 0.1947108507156372\n",
            "TRAIN LOSS: 0.1965317726135254\n",
            "TRAIN LOSS: 0.19440750777721405\n",
            "TRAIN LOSS: 0.19603940844535828\n",
            "TRAIN LOSS: 0.1949249804019928\n",
            "TRAIN LOSS: 0.19419991970062256\n",
            "TRAIN LOSS: 0.19453707337379456\n",
            "TRAIN LOSS: 0.19505873322486877\n",
            "TRAIN LOSS: 0.19477695226669312\n",
            "TRAIN LOSS: 0.19424206018447876\n",
            "TRAIN LOSS: 0.19449159502983093\n",
            "TRAIN LOSS: 0.19512179493904114\n",
            "TRAIN LOSS: 0.19611747562885284\n",
            "TRAIN LOSS: 0.19436202943325043\n",
            "TRAIN LOSS: 0.19561561942100525\n",
            "TRAIN LOSS: 0.19537830352783203\n"
          ],
          "name": "stdout"
        }
      ]
    },
    {
      "cell_type": "code",
      "metadata": {
        "id": "zwJC2vWEq23T",
        "colab": {
          "base_uri": "https://localhost:8080/",
          "height": 497
        },
        "outputId": "9b4934d7-9b58-47b4-ac99-017ebd8ebccf"
      },
      "source": [
        "# Plot losses\n",
        "plt.figure(figsize=(12,8))\n",
        "plt.semilogy(train_loss_log, label='Train loss')\n",
        "plt.xlabel('Epoch')\n",
        "plt.ylabel('Loss')\n",
        "plt.grid()\n",
        "plt.legend()\n",
        "plt.show()"
      ],
      "execution_count": null,
      "outputs": [
        {
          "output_type": "display_data",
          "data": {
            "image/png": "[encoded data removed]",
            "text/plain": [
              "<Figure size 864x576 with 1 Axes>"
            ]
          },
          "metadata": {
            "tags": [],
            "needs_background": "light"
          }
        }
      ]
    },
    {
      "cell_type": "markdown",
      "metadata": {
        "id": "IMzOYfEMrB_K"
      },
      "source": [
        "## Network Analysis"
      ]
    },
    {
      "cell_type": "markdown",
      "metadata": {
        "id": "lm8Wgw9xrLcf"
      },
      "source": [
        "**Network Output**"
      ]
    },
    {
      "cell_type": "code",
      "metadata": {
        "id": "Kqw5auEJrBC5",
        "colab": {
          "base_uri": "https://localhost:8080/",
          "height": 531
        },
        "outputId": "02eb81bf-a343-4df0-ff2d-e25df403c288"
      },
      "source": [
        "# Input vector\n",
        "net.eval()\n",
        "x_vec = torch.linspace(-5,5,1000)\n",
        "x_vec = x_vec.to(device)\n",
        "x_vec = x_vec.unsqueeze(-1)\n",
        "print(f\"Input shape: {x_vec.shape}\")\n",
        "\n",
        "# Network output\n",
        "with torch.no_grad():\n",
        "  y_vec = net(x_vec)\n",
        "print(f\"Output shape: {y_vec.shape}\")\n",
        "\n",
        "# Expected output\n",
        "beta_true = [-1.45, 1.12, 2.3]\n",
        "\n",
        "# Convert x_vec and y_vec to numpy one dimensional arrays\n",
        "x_vec = x_vec.squeeze().cpu().numpy()\n",
        "y_vec = y_vec.squeeze().cpu().numpy()\n",
        "\n",
        "# Plot output\n",
        "plt.figure(figsize=(12,8))\n",
        "plt.plot(x_vec, y_vec, label='Network output')\n",
        "plt.scatter(train_df.input, train_df.label, label='Training points')\n",
        "plt.scatter(test_df.input, test_df.label, label='Test points')\n",
        "plt.xlabel('x')\n",
        "plt.ylabel('y')\n",
        "plt.grid()\n",
        "plt.legend()\n",
        "plt.show()"
      ],
      "execution_count": null,
      "outputs": [
        {
          "output_type": "stream",
          "text": [
            "Input shape: torch.Size([1000, 1])\n",
            "Output shape: torch.Size([1000, 1])\n"
          ],
          "name": "stdout"
        },
        {
          "output_type": "display_data",
          "data": {
            "image/png": "[encoded data removed]",
            "text/plain": [
              "<Figure size 864x576 with 1 Axes>"
            ]
          },
          "metadata": {
            "tags": [],
            "needs_background": "light"
          }
        }
      ]
    },
    {
      "cell_type": "code",
      "metadata": {
        "colab": {
          "base_uri": "https://localhost:8080/"
        },
        "id": "wBr-SoQADQkA",
        "outputId": "d7beb470-5e03-4495-cc52-4e6b4aee5b56"
      },
      "source": [
        "### TEST\n",
        "test_dataloader  = DataLoader(test_dataset,  batch_size=len(test_dataset), shuffle=False, num_workers=0)\n",
        "losses= []\n",
        "net.eval() # Test mode\n",
        "for sample_batched in test_dataloader:\n",
        "    # Move data to device\n",
        "    x_batch = sample_batched[0].to(device)\n",
        "    label_batch = sample_batched[1].to(device)\n",
        "\n",
        "    # Forward pass\n",
        "    out = net(x_batch)\n",
        "\n",
        "    # Compute loss\n",
        "    loss = loss_fn(out, label_batch)\n",
        "\n",
        "    # Save loss\n",
        "    loss_batch = loss.detach().cpu().numpy()\n",
        "    losses.append(loss_batch)\n",
        "\n",
        "# Save average train loss\n",
        "losses = np.mean(losses)\n",
        "\n",
        "print(f\"TEST LOSS: {losses}\")"
      ],
      "execution_count": null,
      "outputs": [
        {
          "output_type": "stream",
          "text": [
            "TEST LOSS: 0.038592204451560974\n"
          ],
          "name": "stdout"
        }
      ]
    },
    {
      "cell_type": "markdown",
      "metadata": {
        "id": "QoYIEdv8nY1F"
      },
      "source": [
        "**Weigths histogram**"
      ]
    },
    {
      "cell_type": "code",
      "metadata": {
        "id": "uDgv9tIJkvKn"
      },
      "source": [
        "# First hidden layer\n",
        "h1_w = net.fc1.weight.data.cpu().numpy()\n",
        "h1_b = net.fc1.bias.data.cpu().numpy()\n",
        "\n",
        "# Second hidden layer\n",
        "h2_w = net.fc2.weight.data.cpu().numpy()\n",
        "h2_b = net.fc2.bias.data.cpu().numpy()\n",
        "\n",
        "# Third hidden layer\n",
        "h3_w = net.fc2.weight.data.cpu().numpy()\n",
        "h3_b = net.fc2.bias.data.cpu().numpy()\n",
        "\n",
        "# Output layer\n",
        "out_w = net.out.weight.data.cpu().numpy()\n",
        "out_b = net.out.bias.data.cpu().numpy()"
      ],
      "execution_count": null,
      "outputs": []
    },
    {
      "cell_type": "code",
      "metadata": {
        "id": "zNS27jm0kSVH",
        "colab": {
          "base_uri": "https://localhost:8080/",
          "height": 585
        },
        "outputId": "a326e680-b308-48eb-a29e-f27afa7b28ca"
      },
      "source": [
        "# Weights histogram\n",
        "fig, axs = plt.subplots(4, 1, figsize=(12,8))\n",
        "axs[0].hist(h1_w.flatten(), 50)\n",
        "axs[0].set_title('Input layer weights')\n",
        "axs[1].hist(h2_w.flatten(), 50)\n",
        "axs[1].set_title('First hidden layer weights')\n",
        "axs[2].hist(h3_w.flatten(), 50)\n",
        "axs[2].set_title('Second hidden layer weights')\n",
        "axs[3].hist(out_w.flatten(), 50)\n",
        "axs[3].set_title('Output layer weights')\n",
        "[ax.grid() for ax in axs]\n",
        "plt.tight_layout()\n",
        "plt.show()"
      ],
      "execution_count": null,
      "outputs": [
        {
          "output_type": "display_data",
          "data": {
            "image/png": "[encoded data removed]",
            "text/plain": [
              "<Figure size 864x576 with 4 Axes>"
            ]
          },
          "metadata": {
            "tags": [],
            "needs_background": "light"
          }
        }
      ]
    },
    {
      "cell_type": "code",
      "metadata": {
        "colab": {
          "base_uri": "https://localhost:8080/",
          "height": 441
        },
        "id": "ux_DhXqvD7w2",
        "outputId": "cb355454-756c-4e3d-b2f9-b0a980f0a74a"
      },
      "source": [
        "\r\n",
        "activation = {}\r\n",
        "def get_activation(layer, input, output):\r\n",
        "    global activation\r\n",
        "    activation = output #before activation function\r\n",
        "\r\n",
        "### Register hook  \r\n",
        "\r\n",
        "net.eval()\r\n",
        "hook_handle = net.fc3.register_forward_hook(get_activation)\r\n",
        "\r\n",
        "\r\n",
        "x1 = torch.tensor([-0.2]).float().to(device)\r\n",
        "y1 = net(x1)\r\n",
        "z1 = activation\r\n",
        "x2 = torch.tensor([2]).float().to(device)\r\n",
        "y2 = net(x2)\r\n",
        "z2 = activation\r\n",
        "x3 = torch.tensor([-3]).float().to(device)\r\n",
        "y3= net(x3)\r\n",
        "z3 = activation\r\n",
        "\r\n",
        "hook_handle.remove()\r\n",
        "\r\n",
        "\r\n",
        "\r\n",
        "fig, axs = plt.subplots(3, 1, figsize=(12,6))\r\n",
        "axs[0].stem(z1.cpu().detach().numpy(), use_line_collection=True)\r\n",
        "axs[0].set_title('Last layer activations for input x=%.2f' % x1)\r\n",
        "axs[1].stem(z2.cpu().detach().numpy(), use_line_collection=True)\r\n",
        "axs[1].set_title('Last layer activations for input x=%.2f' % x2)\r\n",
        "axs[2].stem(z3.cpu().detach().numpy(), use_line_collection=True)\r\n",
        "axs[2].set_title('Last layer activations for input x=%.2f' % x3)\r\n",
        "plt.tight_layout()\r\n",
        "plt.show()"
      ],
      "execution_count": null,
      "outputs": [
        {
          "output_type": "display_data",
          "data": {
            "image/png": "[encoded data removed]",
            "text/plain": [
              "<Figure size 864x432 with 3 Axes>"
            ]
          },
          "metadata": {
            "tags": [],
            "needs_background": "light"
          }
        }
      ]
    }
  ]
}