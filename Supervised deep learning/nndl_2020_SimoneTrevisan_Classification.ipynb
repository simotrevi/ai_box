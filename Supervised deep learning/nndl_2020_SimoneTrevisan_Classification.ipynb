{
  "nbformat": 4,
  "nbformat_minor": 0,
  "metadata": {
    "colab": {
      "name": "nndl_2020_homework_1_classification_(1) (1).ipynb",
      "provenance": [],
      "collapsed_sections": []
    },
    "kernelspec": {
      "name": "python3",
      "display_name": "Python 3"
    },
    "accelerator": "GPU",
    "widgets": {
      "application/vnd.jupyter.widget-state+json": {
        "b876831d758049acb90c06009edc447f": {
          "model_module": "@jupyter-widgets/controls",
          "model_name": "HBoxModel",
          "state": {
            "_view_name": "HBoxView",
            "_dom_classes": [],
            "_model_name": "HBoxModel",
            "_view_module": "@jupyter-widgets/controls",
            "_model_module_version": "1.5.0",
            "_view_count": null,
            "_view_module_version": "1.5.0",
            "box_style": "",
            "layout": "IPY_MODEL_d691d9c8025f49d790f7ab3a74fcbb5a",
            "_model_module": "@jupyter-widgets/controls",
            "children": [
              "IPY_MODEL_f7f50760ce1c434aa3e544011ec868c2",
              "IPY_MODEL_3f895b7118fc4e288dd80d0212caeb41"
            ]
          }
        },
        "d691d9c8025f49d790f7ab3a74fcbb5a": {
          "model_module": "@jupyter-widgets/base",
          "model_name": "LayoutModel",
          "state": {
            "_view_name": "LayoutView",
            "grid_template_rows": null,
            "right": null,
            "justify_content": null,
            "_view_module": "@jupyter-widgets/base",
            "overflow": null,
            "_model_module_version": "1.2.0",
            "_view_count": null,
            "flex_flow": null,
            "width": null,
            "min_width": null,
            "border": null,
            "align_items": null,
            "bottom": null,
            "_model_module": "@jupyter-widgets/base",
            "top": null,
            "grid_column": null,
            "overflow_y": null,
            "overflow_x": null,
            "grid_auto_flow": null,
            "grid_area": null,
            "grid_template_columns": null,
            "flex": null,
            "_model_name": "LayoutModel",
            "justify_items": null,
            "grid_row": null,
            "max_height": null,
            "align_content": null,
            "visibility": null,
            "align_self": null,
            "height": null,
            "min_height": null,
            "padding": null,
            "grid_auto_rows": null,
            "grid_gap": null,
            "max_width": null,
            "order": null,
            "_view_module_version": "1.2.0",
            "grid_template_areas": null,
            "object_position": null,
            "object_fit": null,
            "grid_auto_columns": null,
            "margin": null,
            "display": null,
            "left": null
          }
        },
        "f7f50760ce1c434aa3e544011ec868c2": {
          "model_module": "@jupyter-widgets/controls",
          "model_name": "FloatProgressModel",
          "state": {
            "_view_name": "ProgressView",
            "style": "IPY_MODEL_ab64f75dfcd649f3a85fc9960ebe02b2",
            "_dom_classes": [],
            "description": "",
            "_model_name": "FloatProgressModel",
            "bar_style": "info",
            "max": 1,
            "_view_module": "@jupyter-widgets/controls",
            "_model_module_version": "1.5.0",
            "value": 1,
            "_view_count": null,
            "_view_module_version": "1.5.0",
            "orientation": "horizontal",
            "min": 0,
            "description_tooltip": null,
            "_model_module": "@jupyter-widgets/controls",
            "layout": "IPY_MODEL_3000562f2aaf49b8b0a1c325bd3a11ef"
          }
        },
        "3f895b7118fc4e288dd80d0212caeb41": {
          "model_module": "@jupyter-widgets/controls",
          "model_name": "HTMLModel",
          "state": {
            "_view_name": "HTMLView",
            "style": "IPY_MODEL_a32516ad8002491dab0deca928809604",
            "_dom_classes": [],
            "description": "",
            "_model_name": "HTMLModel",
            "placeholder": "​",
            "_view_module": "@jupyter-widgets/controls",
            "_model_module_version": "1.5.0",
            "value": " 9920512/? [00:20&lt;00:00, 776157.46it/s]",
            "_view_count": null,
            "_view_module_version": "1.5.0",
            "description_tooltip": null,
            "_model_module": "@jupyter-widgets/controls",
            "layout": "IPY_MODEL_1b6cdb67bab742a68104489a86eab8b2"
          }
        },
        "ab64f75dfcd649f3a85fc9960ebe02b2": {
          "model_module": "@jupyter-widgets/controls",
          "model_name": "ProgressStyleModel",
          "state": {
            "_view_name": "StyleView",
            "_model_name": "ProgressStyleModel",
            "description_width": "initial",
            "_view_module": "@jupyter-widgets/base",
            "_model_module_version": "1.5.0",
            "_view_count": null,
            "_view_module_version": "1.2.0",
            "bar_color": null,
            "_model_module": "@jupyter-widgets/controls"
          }
        },
        "3000562f2aaf49b8b0a1c325bd3a11ef": {
          "model_module": "@jupyter-widgets/base",
          "model_name": "LayoutModel",
          "state": {
            "_view_name": "LayoutView",
            "grid_template_rows": null,
            "right": null,
            "justify_content": null,
            "_view_module": "@jupyter-widgets/base",
            "overflow": null,
            "_model_module_version": "1.2.0",
            "_view_count": null,
            "flex_flow": null,
            "width": null,
            "min_width": null,
            "border": null,
            "align_items": null,
            "bottom": null,
            "_model_module": "@jupyter-widgets/base",
            "top": null,
            "grid_column": null,
            "overflow_y": null,
            "overflow_x": null,
            "grid_auto_flow": null,
            "grid_area": null,
            "grid_template_columns": null,
            "flex": null,
            "_model_name": "LayoutModel",
            "justify_items": null,
            "grid_row": null,
            "max_height": null,
            "align_content": null,
            "visibility": null,
            "align_self": null,
            "height": null,
            "min_height": null,
            "padding": null,
            "grid_auto_rows": null,
            "grid_gap": null,
            "max_width": null,
            "order": null,
            "_view_module_version": "1.2.0",
            "grid_template_areas": null,
            "object_position": null,
            "object_fit": null,
            "grid_auto_columns": null,
            "margin": null,
            "display": null,
            "left": null
          }
        },
        "a32516ad8002491dab0deca928809604": {
          "model_module": "@jupyter-widgets/controls",
          "model_name": "DescriptionStyleModel",
          "state": {
            "_view_name": "StyleView",
            "_model_name": "DescriptionStyleModel",
            "description_width": "",
            "_view_module": "@jupyter-widgets/base",
            "_model_module_version": "1.5.0",
            "_view_count": null,
            "_view_module_version": "1.2.0",
            "_model_module": "@jupyter-widgets/controls"
          }
        },
        "1b6cdb67bab742a68104489a86eab8b2": {
          "model_module": "@jupyter-widgets/base",
          "model_name": "LayoutModel",
          "state": {
            "_view_name": "LayoutView",
            "grid_template_rows": null,
            "right": null,
            "justify_content": null,
            "_view_module": "@jupyter-widgets/base",
            "overflow": null,
            "_model_module_version": "1.2.0",
            "_view_count": null,
            "flex_flow": null,
            "width": null,
            "min_width": null,
            "border": null,
            "align_items": null,
            "bottom": null,
            "_model_module": "@jupyter-widgets/base",
            "top": null,
            "grid_column": null,
            "overflow_y": null,
            "overflow_x": null,
            "grid_auto_flow": null,
            "grid_area": null,
            "grid_template_columns": null,
            "flex": null,
            "_model_name": "LayoutModel",
            "justify_items": null,
            "grid_row": null,
            "max_height": null,
            "align_content": null,
            "visibility": null,
            "align_self": null,
            "height": null,
            "min_height": null,
            "padding": null,
            "grid_auto_rows": null,
            "grid_gap": null,
            "max_width": null,
            "order": null,
            "_view_module_version": "1.2.0",
            "grid_template_areas": null,
            "object_position": null,
            "object_fit": null,
            "grid_auto_columns": null,
            "margin": null,
            "display": null,
            "left": null
          }
        },
        "dff39f5a75794d88a491b51b1d67d9ae": {
          "model_module": "@jupyter-widgets/controls",
          "model_name": "HBoxModel",
          "state": {
            "_view_name": "HBoxView",
            "_dom_classes": [],
            "_model_name": "HBoxModel",
            "_view_module": "@jupyter-widgets/controls",
            "_model_module_version": "1.5.0",
            "_view_count": null,
            "_view_module_version": "1.5.0",
            "box_style": "",
            "layout": "IPY_MODEL_c3fc0bbc634846148457885cac8311b8",
            "_model_module": "@jupyter-widgets/controls",
            "children": [
              "IPY_MODEL_cb394349a2ad4d37b16288b8a0769970",
              "IPY_MODEL_b17689f4744a4decaead91caf0ee638f"
            ]
          }
        },
        "c3fc0bbc634846148457885cac8311b8": {
          "model_module": "@jupyter-widgets/base",
          "model_name": "LayoutModel",
          "state": {
            "_view_name": "LayoutView",
            "grid_template_rows": null,
            "right": null,
            "justify_content": null,
            "_view_module": "@jupyter-widgets/base",
            "overflow": null,
            "_model_module_version": "1.2.0",
            "_view_count": null,
            "flex_flow": null,
            "width": null,
            "min_width": null,
            "border": null,
            "align_items": null,
            "bottom": null,
            "_model_module": "@jupyter-widgets/base",
            "top": null,
            "grid_column": null,
            "overflow_y": null,
            "overflow_x": null,
            "grid_auto_flow": null,
            "grid_area": null,
            "grid_template_columns": null,
            "flex": null,
            "_model_name": "LayoutModel",
            "justify_items": null,
            "grid_row": null,
            "max_height": null,
            "align_content": null,
            "visibility": null,
            "align_self": null,
            "height": null,
            "min_height": null,
            "padding": null,
            "grid_auto_rows": null,
            "grid_gap": null,
            "max_width": null,
            "order": null,
            "_view_module_version": "1.2.0",
            "grid_template_areas": null,
            "object_position": null,
            "object_fit": null,
            "grid_auto_columns": null,
            "margin": null,
            "display": null,
            "left": null
          }
        },
        "cb394349a2ad4d37b16288b8a0769970": {
          "model_module": "@jupyter-widgets/controls",
          "model_name": "FloatProgressModel",
          "state": {
            "_view_name": "ProgressView",
            "style": "IPY_MODEL_0b17496621ca4c9eb480186e773b8d7b",
            "_dom_classes": [],
            "description": "",
            "_model_name": "FloatProgressModel",
            "bar_style": "success",
            "max": 1,
            "_view_module": "@jupyter-widgets/controls",
            "_model_module_version": "1.5.0",
            "value": 1,
            "_view_count": null,
            "_view_module_version": "1.5.0",
            "orientation": "horizontal",
            "min": 0,
            "description_tooltip": null,
            "_model_module": "@jupyter-widgets/controls",
            "layout": "IPY_MODEL_7a6f83ae26724e21b1b734d42c7dc99f"
          }
        },
        "b17689f4744a4decaead91caf0ee638f": {
          "model_module": "@jupyter-widgets/controls",
          "model_name": "HTMLModel",
          "state": {
            "_view_name": "HTMLView",
            "style": "IPY_MODEL_a9663b1f5be3441ca64db0f6cb45c783",
            "_dom_classes": [],
            "description": "",
            "_model_name": "HTMLModel",
            "placeholder": "​",
            "_view_module": "@jupyter-widgets/controls",
            "_model_module_version": "1.5.0",
            "value": " 32768/? [00:00&lt;00:00, 111397.37it/s]",
            "_view_count": null,
            "_view_module_version": "1.5.0",
            "description_tooltip": null,
            "_model_module": "@jupyter-widgets/controls",
            "layout": "IPY_MODEL_bc9e019bc5604f44b55e8049cdb32214"
          }
        },
        "0b17496621ca4c9eb480186e773b8d7b": {
          "model_module": "@jupyter-widgets/controls",
          "model_name": "ProgressStyleModel",
          "state": {
            "_view_name": "StyleView",
            "_model_name": "ProgressStyleModel",
            "description_width": "initial",
            "_view_module": "@jupyter-widgets/base",
            "_model_module_version": "1.5.0",
            "_view_count": null,
            "_view_module_version": "1.2.0",
            "bar_color": null,
            "_model_module": "@jupyter-widgets/controls"
          }
        },
        "7a6f83ae26724e21b1b734d42c7dc99f": {
          "model_module": "@jupyter-widgets/base",
          "model_name": "LayoutModel",
          "state": {
            "_view_name": "LayoutView",
            "grid_template_rows": null,
            "right": null,
            "justify_content": null,
            "_view_module": "@jupyter-widgets/base",
            "overflow": null,
            "_model_module_version": "1.2.0",
            "_view_count": null,
            "flex_flow": null,
            "width": null,
            "min_width": null,
            "border": null,
            "align_items": null,
            "bottom": null,
            "_model_module": "@jupyter-widgets/base",
            "top": null,
            "grid_column": null,
            "overflow_y": null,
            "overflow_x": null,
            "grid_auto_flow": null,
            "grid_area": null,
            "grid_template_columns": null,
            "flex": null,
            "_model_name": "LayoutModel",
            "justify_items": null,
            "grid_row": null,
            "max_height": null,
            "align_content": null,
            "visibility": null,
            "align_self": null,
            "height": null,
            "min_height": null,
            "padding": null,
            "grid_auto_rows": null,
            "grid_gap": null,
            "max_width": null,
            "order": null,
            "_view_module_version": "1.2.0",
            "grid_template_areas": null,
            "object_position": null,
            "object_fit": null,
            "grid_auto_columns": null,
            "margin": null,
            "display": null,
            "left": null
          }
        },
        "a9663b1f5be3441ca64db0f6cb45c783": {
          "model_module": "@jupyter-widgets/controls",
          "model_name": "DescriptionStyleModel",
          "state": {
            "_view_name": "StyleView",
            "_model_name": "DescriptionStyleModel",
            "description_width": "",
            "_view_module": "@jupyter-widgets/base",
            "_model_module_version": "1.5.0",
            "_view_count": null,
            "_view_module_version": "1.2.0",
            "_model_module": "@jupyter-widgets/controls"
          }
        },
        "bc9e019bc5604f44b55e8049cdb32214": {
          "model_module": "@jupyter-widgets/base",
          "model_name": "LayoutModel",
          "state": {
            "_view_name": "LayoutView",
            "grid_template_rows": null,
            "right": null,
            "justify_content": null,
            "_view_module": "@jupyter-widgets/base",
            "overflow": null,
            "_model_module_version": "1.2.0",
            "_view_count": null,
            "flex_flow": null,
            "width": null,
            "min_width": null,
            "border": null,
            "align_items": null,
            "bottom": null,
            "_model_module": "@jupyter-widgets/base",
            "top": null,
            "grid_column": null,
            "overflow_y": null,
            "overflow_x": null,
            "grid_auto_flow": null,
            "grid_area": null,
            "grid_template_columns": null,
            "flex": null,
            "_model_name": "LayoutModel",
            "justify_items": null,
            "grid_row": null,
            "max_height": null,
            "align_content": null,
            "visibility": null,
            "align_self": null,
            "height": null,
            "min_height": null,
            "padding": null,
            "grid_auto_rows": null,
            "grid_gap": null,
            "max_width": null,
            "order": null,
            "_view_module_version": "1.2.0",
            "grid_template_areas": null,
            "object_position": null,
            "object_fit": null,
            "grid_auto_columns": null,
            "margin": null,
            "display": null,
            "left": null
          }
        },
        "9a94734cc50c49fbb0368f250d875366": {
          "model_module": "@jupyter-widgets/controls",
          "model_name": "HBoxModel",
          "state": {
            "_view_name": "HBoxView",
            "_dom_classes": [],
            "_model_name": "HBoxModel",
            "_view_module": "@jupyter-widgets/controls",
            "_model_module_version": "1.5.0",
            "_view_count": null,
            "_view_module_version": "1.5.0",
            "box_style": "",
            "layout": "IPY_MODEL_c2932e23139346ab82e56435621bc264",
            "_model_module": "@jupyter-widgets/controls",
            "children": [
              "IPY_MODEL_d56ec79407c4444aa9055be5df8ae30e",
              "IPY_MODEL_a9a0af6fd37e48a59158e15145deb0fb"
            ]
          }
        },
        "c2932e23139346ab82e56435621bc264": {
          "model_module": "@jupyter-widgets/base",
          "model_name": "LayoutModel",
          "state": {
            "_view_name": "LayoutView",
            "grid_template_rows": null,
            "right": null,
            "justify_content": null,
            "_view_module": "@jupyter-widgets/base",
            "overflow": null,
            "_model_module_version": "1.2.0",
            "_view_count": null,
            "flex_flow": null,
            "width": null,
            "min_width": null,
            "border": null,
            "align_items": null,
            "bottom": null,
            "_model_module": "@jupyter-widgets/base",
            "top": null,
            "grid_column": null,
            "overflow_y": null,
            "overflow_x": null,
            "grid_auto_flow": null,
            "grid_area": null,
            "grid_template_columns": null,
            "flex": null,
            "_model_name": "LayoutModel",
            "justify_items": null,
            "grid_row": null,
            "max_height": null,
            "align_content": null,
            "visibility": null,
            "align_self": null,
            "height": null,
            "min_height": null,
            "padding": null,
            "grid_auto_rows": null,
            "grid_gap": null,
            "max_width": null,
            "order": null,
            "_view_module_version": "1.2.0",
            "grid_template_areas": null,
            "object_position": null,
            "object_fit": null,
            "grid_auto_columns": null,
            "margin": null,
            "display": null,
            "left": null
          }
        },
        "d56ec79407c4444aa9055be5df8ae30e": {
          "model_module": "@jupyter-widgets/controls",
          "model_name": "FloatProgressModel",
          "state": {
            "_view_name": "ProgressView",
            "style": "IPY_MODEL_a96a71aca9184fadba1fd85d7f2fcb1e",
            "_dom_classes": [],
            "description": "",
            "_model_name": "FloatProgressModel",
            "bar_style": "info",
            "max": 1,
            "_view_module": "@jupyter-widgets/controls",
            "_model_module_version": "1.5.0",
            "value": 1,
            "_view_count": null,
            "_view_module_version": "1.5.0",
            "orientation": "horizontal",
            "min": 0,
            "description_tooltip": null,
            "_model_module": "@jupyter-widgets/controls",
            "layout": "IPY_MODEL_2b4f81706c914d77b0b525080588e56c"
          }
        },
        "a9a0af6fd37e48a59158e15145deb0fb": {
          "model_module": "@jupyter-widgets/controls",
          "model_name": "HTMLModel",
          "state": {
            "_view_name": "HTMLView",
            "style": "IPY_MODEL_3c3740ac95b841189b6d5cfdc4a6945a",
            "_dom_classes": [],
            "description": "",
            "_model_name": "HTMLModel",
            "placeholder": "​",
            "_view_module": "@jupyter-widgets/controls",
            "_model_module_version": "1.5.0",
            "value": " 1654784/? [00:18&lt;00:00, 280026.30it/s]",
            "_view_count": null,
            "_view_module_version": "1.5.0",
            "description_tooltip": null,
            "_model_module": "@jupyter-widgets/controls",
            "layout": "IPY_MODEL_f21128c331964449935c47ee89d8e5c3"
          }
        },
        "a96a71aca9184fadba1fd85d7f2fcb1e": {
          "model_module": "@jupyter-widgets/controls",
          "model_name": "ProgressStyleModel",
          "state": {
            "_view_name": "StyleView",
            "_model_name": "ProgressStyleModel",
            "description_width": "initial",
            "_view_module": "@jupyter-widgets/base",
            "_model_module_version": "1.5.0",
            "_view_count": null,
            "_view_module_version": "1.2.0",
            "bar_color": null,
            "_model_module": "@jupyter-widgets/controls"
          }
        },
        "2b4f81706c914d77b0b525080588e56c": {
          "model_module": "@jupyter-widgets/base",
          "model_name": "LayoutModel",
          "state": {
            "_view_name": "LayoutView",
            "grid_template_rows": null,
            "right": null,
            "justify_content": null,
            "_view_module": "@jupyter-widgets/base",
            "overflow": null,
            "_model_module_version": "1.2.0",
            "_view_count": null,
            "flex_flow": null,
            "width": null,
            "min_width": null,
            "border": null,
            "align_items": null,
            "bottom": null,
            "_model_module": "@jupyter-widgets/base",
            "top": null,
            "grid_column": null,
            "overflow_y": null,
            "overflow_x": null,
            "grid_auto_flow": null,
            "grid_area": null,
            "grid_template_columns": null,
            "flex": null,
            "_model_name": "LayoutModel",
            "justify_items": null,
            "grid_row": null,
            "max_height": null,
            "align_content": null,
            "visibility": null,
            "align_self": null,
            "height": null,
            "min_height": null,
            "padding": null,
            "grid_auto_rows": null,
            "grid_gap": null,
            "max_width": null,
            "order": null,
            "_view_module_version": "1.2.0",
            "grid_template_areas": null,
            "object_position": null,
            "object_fit": null,
            "grid_auto_columns": null,
            "margin": null,
            "display": null,
            "left": null
          }
        },
        "3c3740ac95b841189b6d5cfdc4a6945a": {
          "model_module": "@jupyter-widgets/controls",
          "model_name": "DescriptionStyleModel",
          "state": {
            "_view_name": "StyleView",
            "_model_name": "DescriptionStyleModel",
            "description_width": "",
            "_view_module": "@jupyter-widgets/base",
            "_model_module_version": "1.5.0",
            "_view_count": null,
            "_view_module_version": "1.2.0",
            "_model_module": "@jupyter-widgets/controls"
          }
        },
        "f21128c331964449935c47ee89d8e5c3": {
          "model_module": "@jupyter-widgets/base",
          "model_name": "LayoutModel",
          "state": {
            "_view_name": "LayoutView",
            "grid_template_rows": null,
            "right": null,
            "justify_content": null,
            "_view_module": "@jupyter-widgets/base",
            "overflow": null,
            "_model_module_version": "1.2.0",
            "_view_count": null,
            "flex_flow": null,
            "width": null,
            "min_width": null,
            "border": null,
            "align_items": null,
            "bottom": null,
            "_model_module": "@jupyter-widgets/base",
            "top": null,
            "grid_column": null,
            "overflow_y": null,
            "overflow_x": null,
            "grid_auto_flow": null,
            "grid_area": null,
            "grid_template_columns": null,
            "flex": null,
            "_model_name": "LayoutModel",
            "justify_items": null,
            "grid_row": null,
            "max_height": null,
            "align_content": null,
            "visibility": null,
            "align_self": null,
            "height": null,
            "min_height": null,
            "padding": null,
            "grid_auto_rows": null,
            "grid_gap": null,
            "max_width": null,
            "order": null,
            "_view_module_version": "1.2.0",
            "grid_template_areas": null,
            "object_position": null,
            "object_fit": null,
            "grid_auto_columns": null,
            "margin": null,
            "display": null,
            "left": null
          }
        },
        "ecfbf9b44ad44cb191f06f79b83d0dcf": {
          "model_module": "@jupyter-widgets/controls",
          "model_name": "HBoxModel",
          "state": {
            "_view_name": "HBoxView",
            "_dom_classes": [],
            "_model_name": "HBoxModel",
            "_view_module": "@jupyter-widgets/controls",
            "_model_module_version": "1.5.0",
            "_view_count": null,
            "_view_module_version": "1.5.0",
            "box_style": "",
            "layout": "IPY_MODEL_a110fed74b7247bda066bf2b3fccdcf5",
            "_model_module": "@jupyter-widgets/controls",
            "children": [
              "IPY_MODEL_d3d3454bf9614a65b151c058adc65ff4",
              "IPY_MODEL_8a1710cb64a044a7991eaa793de491d6"
            ]
          }
        },
        "a110fed74b7247bda066bf2b3fccdcf5": {
          "model_module": "@jupyter-widgets/base",
          "model_name": "LayoutModel",
          "state": {
            "_view_name": "LayoutView",
            "grid_template_rows": null,
            "right": null,
            "justify_content": null,
            "_view_module": "@jupyter-widgets/base",
            "overflow": null,
            "_model_module_version": "1.2.0",
            "_view_count": null,
            "flex_flow": null,
            "width": null,
            "min_width": null,
            "border": null,
            "align_items": null,
            "bottom": null,
            "_model_module": "@jupyter-widgets/base",
            "top": null,
            "grid_column": null,
            "overflow_y": null,
            "overflow_x": null,
            "grid_auto_flow": null,
            "grid_area": null,
            "grid_template_columns": null,
            "flex": null,
            "_model_name": "LayoutModel",
            "justify_items": null,
            "grid_row": null,
            "max_height": null,
            "align_content": null,
            "visibility": null,
            "align_self": null,
            "height": null,
            "min_height": null,
            "padding": null,
            "grid_auto_rows": null,
            "grid_gap": null,
            "max_width": null,
            "order": null,
            "_view_module_version": "1.2.0",
            "grid_template_areas": null,
            "object_position": null,
            "object_fit": null,
            "grid_auto_columns": null,
            "margin": null,
            "display": null,
            "left": null
          }
        },
        "d3d3454bf9614a65b151c058adc65ff4": {
          "model_module": "@jupyter-widgets/controls",
          "model_name": "FloatProgressModel",
          "state": {
            "_view_name": "ProgressView",
            "style": "IPY_MODEL_5ad2537509974c65b17775d01a851d02",
            "_dom_classes": [],
            "description": "  0%",
            "_model_name": "FloatProgressModel",
            "bar_style": "info",
            "max": 1,
            "_view_module": "@jupyter-widgets/controls",
            "_model_module_version": "1.5.0",
            "value": 0,
            "_view_count": null,
            "_view_module_version": "1.5.0",
            "orientation": "horizontal",
            "min": 0,
            "description_tooltip": null,
            "_model_module": "@jupyter-widgets/controls",
            "layout": "IPY_MODEL_9cb538c9124047d79a5e88aa1b860056"
          }
        },
        "8a1710cb64a044a7991eaa793de491d6": {
          "model_module": "@jupyter-widgets/controls",
          "model_name": "HTMLModel",
          "state": {
            "_view_name": "HTMLView",
            "style": "IPY_MODEL_1eba72d3d44d49508da6a85c0800139d",
            "_dom_classes": [],
            "description": "",
            "_model_name": "HTMLModel",
            "placeholder": "​",
            "_view_module": "@jupyter-widgets/controls",
            "_model_module_version": "1.5.0",
            "value": " 0/4542 [00:00&lt;?, ?it/s]",
            "_view_count": null,
            "_view_module_version": "1.5.0",
            "description_tooltip": null,
            "_model_module": "@jupyter-widgets/controls",
            "layout": "IPY_MODEL_5393c1ac64334ec6b0366b1646e3f199"
          }
        },
        "5ad2537509974c65b17775d01a851d02": {
          "model_module": "@jupyter-widgets/controls",
          "model_name": "ProgressStyleModel",
          "state": {
            "_view_name": "StyleView",
            "_model_name": "ProgressStyleModel",
            "description_width": "initial",
            "_view_module": "@jupyter-widgets/base",
            "_model_module_version": "1.5.0",
            "_view_count": null,
            "_view_module_version": "1.2.0",
            "bar_color": null,
            "_model_module": "@jupyter-widgets/controls"
          }
        },
        "9cb538c9124047d79a5e88aa1b860056": {
          "model_module": "@jupyter-widgets/base",
          "model_name": "LayoutModel",
          "state": {
            "_view_name": "LayoutView",
            "grid_template_rows": null,
            "right": null,
            "justify_content": null,
            "_view_module": "@jupyter-widgets/base",
            "overflow": null,
            "_model_module_version": "1.2.0",
            "_view_count": null,
            "flex_flow": null,
            "width": null,
            "min_width": null,
            "border": null,
            "align_items": null,
            "bottom": null,
            "_model_module": "@jupyter-widgets/base",
            "top": null,
            "grid_column": null,
            "overflow_y": null,
            "overflow_x": null,
            "grid_auto_flow": null,
            "grid_area": null,
            "grid_template_columns": null,
            "flex": null,
            "_model_name": "LayoutModel",
            "justify_items": null,
            "grid_row": null,
            "max_height": null,
            "align_content": null,
            "visibility": null,
            "align_self": null,
            "height": null,
            "min_height": null,
            "padding": null,
            "grid_auto_rows": null,
            "grid_gap": null,
            "max_width": null,
            "order": null,
            "_view_module_version": "1.2.0",
            "grid_template_areas": null,
            "object_position": null,
            "object_fit": null,
            "grid_auto_columns": null,
            "margin": null,
            "display": null,
            "left": null
          }
        },
        "1eba72d3d44d49508da6a85c0800139d": {
          "model_module": "@jupyter-widgets/controls",
          "model_name": "DescriptionStyleModel",
          "state": {
            "_view_name": "StyleView",
            "_model_name": "DescriptionStyleModel",
            "description_width": "",
            "_view_module": "@jupyter-widgets/base",
            "_model_module_version": "1.5.0",
            "_view_count": null,
            "_view_module_version": "1.2.0",
            "_model_module": "@jupyter-widgets/controls"
          }
        },
        "5393c1ac64334ec6b0366b1646e3f199": {
          "model_module": "@jupyter-widgets/base",
          "model_name": "LayoutModel",
          "state": {
            "_view_name": "LayoutView",
            "grid_template_rows": null,
            "right": null,
            "justify_content": null,
            "_view_module": "@jupyter-widgets/base",
            "overflow": null,
            "_model_module_version": "1.2.0",
            "_view_count": null,
            "flex_flow": null,
            "width": null,
            "min_width": null,
            "border": null,
            "align_items": null,
            "bottom": null,
            "_model_module": "@jupyter-widgets/base",
            "top": null,
            "grid_column": null,
            "overflow_y": null,
            "overflow_x": null,
            "grid_auto_flow": null,
            "grid_area": null,
            "grid_template_columns": null,
            "flex": null,
            "_model_name": "LayoutModel",
            "justify_items": null,
            "grid_row": null,
            "max_height": null,
            "align_content": null,
            "visibility": null,
            "align_self": null,
            "height": null,
            "min_height": null,
            "padding": null,
            "grid_auto_rows": null,
            "grid_gap": null,
            "max_width": null,
            "order": null,
            "_view_module_version": "1.2.0",
            "grid_template_areas": null,
            "object_position": null,
            "object_fit": null,
            "grid_auto_columns": null,
            "margin": null,
            "display": null,
            "left": null
          }
        }
      }
    }
  },
  "cells": [
    {
      "cell_type": "markdown",
      "metadata": {
        "id": "zYncZVOyF8Rb"
      },
      "source": [
        "#NEURAL NETWORKS AND DEEP LEARNING\n",
        "> M.Sc. ICT FOR LIFE AND HEALTH\n",
        "> \n",
        "> Department of Information Engineering\n",
        "\n",
        "> M.Sc. COMPUTER ENGINEERING\n",
        ">\n",
        "> Department of Information Engineering\n",
        "\n",
        "> M.Sc. AUTOMATION ENGINEERING\n",
        ">\n",
        "> Department of Information Engineering\n",
        " \n",
        "> M.Sc. PHYSICS OF DATA\n",
        ">\n",
        "> Department of Physics and Astronomy\n",
        " \n",
        "> M.Sc. COGNITIVE NEUROSCIENCE AND CLINICAL NEUROPSYCHOLOGY\n",
        ">\n",
        "> Department of General Psychology\n",
        "\n",
        "---\n",
        "A.A. 2020/21 (6 CFU) - Dr. Alberto Testolin, Dr. Matteo Gadaleta\n",
        "---\n"
      ]
    },
    {
      "cell_type": "markdown",
      "metadata": {
        "id": "AgHJFDwYvgHg"
      },
      "source": [
        "# Homework 1 - Supervised Deep Learning\r\n",
        "\r\n",
        "## Simone Trevisan 1238612"
      ]
    },
    {
      "cell_type": "markdown",
      "metadata": {
        "id": "SxW5QfJRvWV9"
      },
      "source": [
        "# Classification task"
      ]
    },
    {
      "cell_type": "markdown",
      "metadata": {
        "id": "rsvBiTw7ykT5"
      },
      "source": [
        "## Dataset"
      ]
    },
    {
      "cell_type": "code",
      "metadata": {
        "id": "lrkanzKpwaFJ"
      },
      "source": [
        "import torch\n",
        "import torchvision\n",
        "import matplotlib.pyplot as plt\n",
        "import numpy as np\n",
        "import torch.nn as nn\n",
        "from torch.autograd import Variable\n",
        "import torch.nn.functional as F"
      ],
      "execution_count": null,
      "outputs": []
    },
    {
      "cell_type": "markdown",
      "metadata": {
        "id": "EYaGs-I_zRk-"
      },
      "source": [
        "Download the dataset:"
      ]
    },
    {
      "cell_type": "code",
      "metadata": {
        "id": "6wRuRn08zVO9",
        "colab": {
          "base_uri": "https://localhost:8080/",
          "height": 386,
          "referenced_widgets": [
            "b876831d758049acb90c06009edc447f",
            "d691d9c8025f49d790f7ab3a74fcbb5a",
            "f7f50760ce1c434aa3e544011ec868c2",
            "3f895b7118fc4e288dd80d0212caeb41",
            "ab64f75dfcd649f3a85fc9960ebe02b2",
            "3000562f2aaf49b8b0a1c325bd3a11ef",
            "a32516ad8002491dab0deca928809604",
            "1b6cdb67bab742a68104489a86eab8b2",
            "dff39f5a75794d88a491b51b1d67d9ae",
            "c3fc0bbc634846148457885cac8311b8",
            "cb394349a2ad4d37b16288b8a0769970",
            "b17689f4744a4decaead91caf0ee638f",
            "0b17496621ca4c9eb480186e773b8d7b",
            "7a6f83ae26724e21b1b734d42c7dc99f",
            "a9663b1f5be3441ca64db0f6cb45c783",
            "bc9e019bc5604f44b55e8049cdb32214",
            "9a94734cc50c49fbb0368f250d875366",
            "c2932e23139346ab82e56435621bc264",
            "d56ec79407c4444aa9055be5df8ae30e",
            "a9a0af6fd37e48a59158e15145deb0fb",
            "a96a71aca9184fadba1fd85d7f2fcb1e",
            "2b4f81706c914d77b0b525080588e56c",
            "3c3740ac95b841189b6d5cfdc4a6945a",
            "f21128c331964449935c47ee89d8e5c3",
            "ecfbf9b44ad44cb191f06f79b83d0dcf",
            "a110fed74b7247bda066bf2b3fccdcf5",
            "d3d3454bf9614a65b151c058adc65ff4",
            "8a1710cb64a044a7991eaa793de491d6",
            "5ad2537509974c65b17775d01a851d02",
            "9cb538c9124047d79a5e88aa1b860056",
            "1eba72d3d44d49508da6a85c0800139d",
            "5393c1ac64334ec6b0366b1646e3f199"
          ]
        },
        "outputId": "8d8c1873-7fe0-46e6-b38d-6888ab719959"
      },
      "source": [
        "trs = torchvision.transforms.Compose([torchvision.transforms.ToTensor(), \n",
        "                          torchvision.transforms.Normalize((0.1307,), (0.3081,))])\n",
        "train_dataset = torchvision.datasets.MNIST('classifier_data', train=True, download=True, transform=trs)\n",
        "test_dataset  = torchvision.datasets.MNIST('classifier_data', train=False, download=True, transform=trs)"
      ],
      "execution_count": null,
      "outputs": [
        {
          "output_type": "stream",
          "text": [
            "Downloading http://yann.lecun.com/exdb/mnist/train-images-idx3-ubyte.gz to classifier_data/MNIST/raw/train-images-idx3-ubyte.gz\n"
          ],
          "name": "stdout"
        },
        {
          "output_type": "display_data",
          "data": {
            "application/vnd.jupyter.widget-view+json": {
              "model_id": "b876831d758049acb90c06009edc447f",
              "version_minor": 0,
              "version_major": 2
            },
            "text/plain": [
              "HBox(children=(FloatProgress(value=1.0, bar_style='info', max=1.0), HTML(value='')))"
            ]
          },
          "metadata": {
            "tags": []
          }
        },
        {
          "output_type": "stream",
          "text": [
            "Extracting classifier_data/MNIST/raw/train-images-idx3-ubyte.gz to classifier_data/MNIST/raw\n",
            "Downloading http://yann.lecun.com/exdb/mnist/train-labels-idx1-ubyte.gz to classifier_data/MNIST/raw/train-labels-idx1-ubyte.gz\n"
          ],
          "name": "stdout"
        },
        {
          "output_type": "display_data",
          "data": {
            "application/vnd.jupyter.widget-view+json": {
              "model_id": "dff39f5a75794d88a491b51b1d67d9ae",
              "version_minor": 0,
              "version_major": 2
            },
            "text/plain": [
              "HBox(children=(FloatProgress(value=1.0, bar_style='info', max=1.0), HTML(value='')))"
            ]
          },
          "metadata": {
            "tags": []
          }
        },
        {
          "output_type": "stream",
          "text": [
            "Extracting classifier_data/MNIST/raw/train-labels-idx1-ubyte.gz to classifier_data/MNIST/raw\n",
            "Downloading http://yann.lecun.com/exdb/mnist/t10k-images-idx3-ubyte.gz to classifier_data/MNIST/raw/t10k-images-idx3-ubyte.gz\n",
            "\n"
          ],
          "name": "stdout"
        },
        {
          "output_type": "display_data",
          "data": {
            "application/vnd.jupyter.widget-view+json": {
              "model_id": "9a94734cc50c49fbb0368f250d875366",
              "version_minor": 0,
              "version_major": 2
            },
            "text/plain": [
              "HBox(children=(FloatProgress(value=1.0, bar_style='info', max=1.0), HTML(value='')))"
            ]
          },
          "metadata": {
            "tags": []
          }
        },
        {
          "output_type": "stream",
          "text": [
            "Extracting classifier_data/MNIST/raw/t10k-images-idx3-ubyte.gz to classifier_data/MNIST/raw\n",
            "Downloading http://yann.lecun.com/exdb/mnist/t10k-labels-idx1-ubyte.gz to classifier_data/MNIST/raw/t10k-labels-idx1-ubyte.gz\n"
          ],
          "name": "stdout"
        },
        {
          "output_type": "display_data",
          "data": {
            "application/vnd.jupyter.widget-view+json": {
              "model_id": "ecfbf9b44ad44cb191f06f79b83d0dcf",
              "version_minor": 0,
              "version_major": 2
            },
            "text/plain": [
              "HBox(children=(FloatProgress(value=1.0, bar_style='info', max=1.0), HTML(value='')))"
            ]
          },
          "metadata": {
            "tags": []
          }
        },
        {
          "output_type": "stream",
          "text": [
            "Extracting classifier_data/MNIST/raw/t10k-labels-idx1-ubyte.gz to classifier_data/MNIST/raw\n",
            "Processing...\n",
            "Done!\n"
          ],
          "name": "stdout"
        },
        {
          "output_type": "stream",
          "text": [
            "/usr/local/lib/python3.6/dist-packages/torchvision/datasets/mnist.py:480: UserWarning: The given NumPy array is not writeable, and PyTorch does not support non-writeable tensors. This means you can write to the underlying (supposedly non-writeable) NumPy array using the tensor. You may want to copy the array to protect its data or make it writeable before converting it to a tensor. This type of warning will be suppressed for the rest of this program. (Triggered internally at  /pytorch/torch/csrc/utils/tensor_numpy.cpp:141.)\n",
            "  return torch.from_numpy(parsed.astype(m[2], copy=False)).view(*s)\n"
          ],
          "name": "stderr"
        }
      ]
    },
    {
      "cell_type": "markdown",
      "metadata": {
        "id": "IUIZu5YpzMT9"
      },
      "source": [
        "How to get an image and the corresponding label:"
      ]
    },
    {
      "cell_type": "code",
      "metadata": {
        "id": "SGXmy4mNwfk4",
        "colab": {
          "base_uri": "https://localhost:8080/",
          "height": 517
        },
        "outputId": "b716040f-d6af-45b1-d531-e0daf1ef2b26"
      },
      "source": [
        "sample_index = 0\n",
        "image = train_dataset[sample_index][0]\n",
        "label = train_dataset[sample_index][1]\n",
        "\n",
        "fig = plt.figure(figsize=(8,8))\n",
        "plt.imshow(np.squeeze(image), cmap='Greys')\n",
        "print(f\"SAMPLE AT INDEX {sample_index}\")\n",
        "print(f\"LABEL: {label}\")"
      ],
      "execution_count": null,
      "outputs": [
        {
          "output_type": "stream",
          "text": [
            "SAMPLE AT INDEX 0\n",
            "LABEL: 5\n"
          ],
          "name": "stdout"
        },
        {
          "output_type": "display_data",
          "data": {
            "image/png": "[encoded data removed]",
            "text/plain": [
              "<Figure size 576x576 with 1 Axes>"
            ]
          },
          "metadata": {
            "tags": [],
            "needs_background": "light"
          }
        }
      ]
    },
    {
      "cell_type": "markdown",
      "metadata": {
        "id": "4tyNO_jtyMFm"
      },
      "source": [
        "## Data Augmentation"
      ]
    },
    {
      "cell_type": "code",
      "metadata": {
        "id": "WdEMZwaEyKkN"
      },
      "source": [
        "# Data augmentation\n",
        "trs2 = torchvision.transforms.Compose([torchvision.transforms.ToPILImage(mode=None), \n",
        "                           torchvision.transforms.RandomAffine(35, translate=(0.12,0.12), shear=5), \n",
        "                           torchvision.transforms.ToTensor(), torchvision.transforms.Normalize((0.1307,), (0.3081,))])\n",
        "\n"
      ],
      "execution_count": null,
      "outputs": []
    },
    {
      "cell_type": "code",
      "metadata": {
        "id": "_o_cB-aI0qyW"
      },
      "source": [
        "train_dataset,val_dataset = torch.utils.data.random_split(train_dataset,\n",
        "                                [int(len(train_dataset)*0.8),int(len(train_dataset)*0.2)])\n",
        "\n",
        "train_dataset_aug_x = [trs2(tensor[0]) for tensor in train_dataset]\n",
        "train_dataset_aug_y = [tensor[1] for tensor in train_dataset]\n",
        "\n",
        "train_dataset_x = [tensor[0] for tensor in train_dataset]\n",
        "\n"
      ],
      "execution_count": null,
      "outputs": []
    },
    {
      "cell_type": "code",
      "metadata": {
        "id": "nTogb2lwByoF"
      },
      "source": [
        "train_dataset_x = torch.stack(train_dataset_x+train_dataset_aug_x)\n",
        "train_dataset_y = torch.Tensor(train_dataset_aug_y+train_dataset_aug_y)"
      ],
      "execution_count": null,
      "outputs": []
    },
    {
      "cell_type": "code",
      "metadata": {
        "id": "FQQ1Bjma9isC"
      },
      "source": [
        "train_dataset = torch.utils.data.TensorDataset(train_dataset_x,train_dataset_y)"
      ],
      "execution_count": null,
      "outputs": []
    },
    {
      "cell_type": "markdown",
      "metadata": {
        "id": "SlmT4s2pkPUS"
      },
      "source": [
        "## Model Definition"
      ]
    },
    {
      "cell_type": "code",
      "metadata": {
        "id": "WjyVg291kOVq"
      },
      "source": [
        "#%% Neural Network\n",
        "\n",
        "class Net(nn.Module):\n",
        "    \n",
        "    def __init__(self, Ni, Nh1, Nh2, Nh3, No):\n",
        "        super(Net, self).__init__()\n",
        "        self.conv1 = nn.Conv2d(1, Nh1, 5, 1, padding=2)\n",
        "        self.bn1 = nn.BatchNorm2d(Nh1)\n",
        "        self.conv2 = nn.Conv2d(Nh1, Nh2, 5,1, padding=2)\n",
        "        self.bn2 = nn.BatchNorm2d(Nh2)\n",
        "        self.fc1 = nn.Linear(7*7*Nh2, Nh3)\n",
        "        self.bn3 = nn.BatchNorm1d(Nh3)\n",
        "        self.fc2 = nn.Linear(Nh3, No)\n",
        "        \n",
        "        \n",
        "    def forward(self, x, additional_out=False):\n",
        "        \n",
        "        x = F.relu(self.conv1(x))\n",
        "        x = F.max_pool2d(x, 2, 2)\n",
        "        x = self.bn1(x)\n",
        "        x = F.dropout(x, p=0.3, training=self.training)\n",
        "        x = F.relu(self.conv2(x))\n",
        "        x = F.max_pool2d(x, 2, 2)\n",
        "        x = self.bn2(x)\n",
        "        x = F.dropout(x, p=0.3, training=self.training)\n",
        "        x = x.view(-1, 7*7*Nh2)\n",
        "        x = F.relu(self.fc1(x))\n",
        "        x = self.bn3(x)\n",
        "        x = F.dropout(x, p=0.3, training=self.training)\n",
        "        x = self.fc2(x)\n",
        "        \n",
        "        \n",
        "        if additional_out:\n",
        "            return F.log_softmax(x, dim=1), x\n",
        "        \n",
        "        return F.log_softmax(x, dim=1)"
      ],
      "execution_count": null,
      "outputs": []
    },
    {
      "cell_type": "code",
      "metadata": {
        "id": "bKRSLZJslTYg",
        "colab": {
          "base_uri": "https://localhost:8080/"
        },
        "outputId": "6be64b6c-1726-47f6-f5af-f575dbeb8255"
      },
      "source": [
        "#%% Network initialization\n",
        "        \n",
        "Ni = 784\n",
        "Nh1 = 32\n",
        "Nh2 = 64\n",
        "Nh3 = 1024\n",
        "No = 10\n",
        "net = Net(Ni, Nh1, Nh2 , Nh3, No)\n",
        "device = torch.device(\"cuda\")\n",
        "net.cuda()"
      ],
      "execution_count": null,
      "outputs": [
        {
          "output_type": "execute_result",
          "data": {
            "text/plain": [
              "Net(\n",
              "  (conv1): Conv2d(1, 32, kernel_size=(5, 5), stride=(1, 1), padding=(2, 2))\n",
              "  (bn1): BatchNorm2d(32, eps=1e-05, momentum=0.1, affine=True, track_running_stats=True)\n",
              "  (conv2): Conv2d(32, 64, kernel_size=(5, 5), stride=(1, 1), padding=(2, 2))\n",
              "  (bn2): BatchNorm2d(64, eps=1e-05, momentum=0.1, affine=True, track_running_stats=True)\n",
              "  (fc1): Linear(in_features=3136, out_features=1024, bias=True)\n",
              "  (bn3): BatchNorm1d(1024, eps=1e-05, momentum=0.1, affine=True, track_running_stats=True)\n",
              "  (fc2): Linear(in_features=1024, out_features=10, bias=True)\n",
              ")"
            ]
          },
          "metadata": {
            "tags": []
          },
          "execution_count": 318
        }
      ]
    },
    {
      "cell_type": "code",
      "metadata": {
        "id": "rZmjbA93_fpD",
        "colab": {
          "base_uri": "https://localhost:8080/"
        },
        "outputId": "519c1939-9270-4f78-ee1f-aac0b7ba65c0"
      },
      "source": [
        "from torchsummary import summary\n",
        "\n",
        "summary(net, input_size=(1, 28, 28))"
      ],
      "execution_count": null,
      "outputs": [
        {
          "output_type": "stream",
          "text": [
            "----------------------------------------------------------------\n",
            "        Layer (type)               Output Shape         Param #\n",
            "================================================================\n",
            "            Conv2d-1           [-1, 32, 28, 28]             832\n",
            "       BatchNorm2d-2           [-1, 32, 14, 14]              64\n",
            "            Conv2d-3           [-1, 64, 14, 14]          51,264\n",
            "       BatchNorm2d-4             [-1, 64, 7, 7]             128\n",
            "            Linear-5                 [-1, 1024]       3,212,288\n",
            "       BatchNorm1d-6                 [-1, 1024]           2,048\n",
            "            Linear-7                   [-1, 10]          10,250\n",
            "================================================================\n",
            "Total params: 3,276,874\n",
            "Trainable params: 3,276,874\n",
            "Non-trainable params: 0\n",
            "----------------------------------------------------------------\n",
            "Input size (MB): 0.00\n",
            "Forward/backward pass size (MB): 0.37\n",
            "Params size (MB): 12.50\n",
            "Estimated Total Size (MB): 12.88\n",
            "----------------------------------------------------------------\n"
          ],
          "name": "stdout"
        }
      ]
    },
    {
      "cell_type": "markdown",
      "metadata": {
        "id": "2zct0U7Qk4aJ"
      },
      "source": [
        "## Training"
      ]
    },
    {
      "cell_type": "code",
      "metadata": {
        "id": "VVGcnik2k6wh"
      },
      "source": [
        "train_loader = torch.utils.data.DataLoader(train_dataset, batch_size = 64, shuffle = True)\n",
        "val_loader = torch.utils.data.DataLoader(val_dataset, batch_size = 1000, shuffle = False)\n",
        "test_loader = torch.utils.data.DataLoader(test_dataset, batch_size = 1000, shuffle = False)"
      ],
      "execution_count": null,
      "outputs": []
    },
    {
      "cell_type": "code",
      "metadata": {
        "id": "nDZg918glh5m"
      },
      "source": [
        "#%% Training\n",
        "### \n",
        "train_loss_log = []\n",
        "test_loss_log = []\n",
        "conc_out = torch.Tensor().float()\n",
        "conc_label = torch.Tensor().long()\n",
        "conc_acc = torch.Tensor().float()\n",
        "num_epochs = 50\n",
        "lr = [1e-3, 1e-3, 1e-4, 1e-4, 1e-4, 1e-4] #1e-4\n",
        "optimizer = torch.optim.Adam(net.parameters(), lr=lr[1])"
      ],
      "execution_count": null,
      "outputs": []
    },
    {
      "cell_type": "code",
      "metadata": {
        "id": "gzPuamkGl3AS",
        "colab": {
          "base_uri": "https://localhost:8080/"
        },
        "outputId": "42990ebe-b6ad-4d37-91ce-649f96ec75d9"
      },
      "source": [
        "\n",
        "for num_epoch in range(50):\n",
        "  print('Epoch', num_epoch + 1)\n",
        "  # Training\n",
        "  net.train() # Training mode (e.g. enable dropout)\n",
        "  # Eventually clear previous recorded gradients\n",
        "  optimizer.zero_grad()\n",
        "  conc_out = torch.Tensor().float()\n",
        "  conc_label = torch.Tensor().long()\n",
        "  for batch_idx, (X_batch, y_batch) in enumerate(train_loader):\n",
        "      input_train = Variable(X_batch).float()\n",
        "      label_train = Variable(y_batch).long()\n",
        "      input_train = input_train.to(device)\n",
        "      label_train = label_train.to(device)\n",
        "      optimizer.zero_grad()\n",
        "      # Forward pass\n",
        "      out = net(input_train)\n",
        "      \n",
        "      loss = F.nll_loss(out, label_train.squeeze())\n",
        "      loss.backward()\n",
        "      optimizer.step()\n",
        "        \n",
        "    # Total correct predictions\n",
        "  correct = 0\n",
        "  net.eval()\n",
        "  for val_imgs, val_labels in val_loader:\n",
        "        val_imgs = Variable(val_imgs).float()\n",
        "        val_imgs = val_imgs.to(device)\n",
        "        out_val = net(val_imgs)\n",
        "        predicted = torch.max(out_val, 1)[1]\n",
        "        val_labels = val_labels.to(device)\n",
        "        correct += (predicted == val_labels.T).sum()\n",
        "\n",
        "    \n",
        "  accuracy = float(correct*100) / float(len(val_dataset))\n",
        "  conc_acc = torch.cat((conc_acc,torch.Tensor([accuracy])),dim=0)\n",
        "\n",
        "  print('Epoch : {} \\tLoss: {:.6f}\\t Accuracy:{:.3f}%'.format(\n",
        "                num_epoch+1, \n",
        "                loss.data,\n",
        "                float(correct*100) / float(len(val_dataset))))\n",
        "\n",
        "conc_acc1 = conc_acc"
      ],
      "execution_count": null,
      "outputs": [
        {
          "output_type": "stream",
          "text": [
            "Epoch 1\n",
            "Epoch : 1 \tLoss: 0.305155\t Accuracy:98.177%\n",
            "Epoch 2\n",
            "Epoch : 2 \tLoss: 0.626697\t Accuracy:98.385%\n",
            "Epoch 3\n",
            "Epoch : 3 \tLoss: 0.134187\t Accuracy:98.833%\n",
            "Epoch 4\n",
            "Epoch : 4 \tLoss: 0.242462\t Accuracy:98.865%\n",
            "Epoch 5\n",
            "Epoch : 5 \tLoss: 0.119159\t Accuracy:98.885%\n",
            "Epoch 6\n",
            "Epoch : 6 \tLoss: 0.216650\t Accuracy:98.812%\n",
            "Epoch 7\n",
            "Epoch : 7 \tLoss: 0.308122\t Accuracy:99.062%\n",
            "Epoch 8\n",
            "Epoch : 8 \tLoss: 0.212404\t Accuracy:98.969%\n",
            "Epoch 9\n",
            "Epoch : 9 \tLoss: 0.151389\t Accuracy:98.969%\n",
            "Epoch 10\n",
            "Epoch : 10 \tLoss: 0.263566\t Accuracy:99.073%\n",
            "Epoch 11\n",
            "Epoch : 11 \tLoss: 0.128836\t Accuracy:99.125%\n",
            "Epoch 12\n",
            "Epoch : 12 \tLoss: 0.179080\t Accuracy:99.115%\n",
            "Epoch 13\n",
            "Epoch : 13 \tLoss: 0.071985\t Accuracy:99.021%\n",
            "Epoch 14\n",
            "Epoch : 14 \tLoss: 0.039684\t Accuracy:99.167%\n",
            "Epoch 15\n",
            "Epoch : 15 \tLoss: 0.131856\t Accuracy:99.094%\n",
            "Epoch 16\n",
            "Epoch : 16 \tLoss: 0.096685\t Accuracy:99.031%\n",
            "Epoch 17\n",
            "Epoch : 17 \tLoss: 0.158847\t Accuracy:99.021%\n",
            "Epoch 18\n",
            "Epoch : 18 \tLoss: 0.067145\t Accuracy:99.156%\n",
            "Epoch 19\n",
            "Epoch : 19 \tLoss: 0.031349\t Accuracy:99.208%\n",
            "Epoch 20\n",
            "Epoch : 20 \tLoss: 0.069506\t Accuracy:99.135%\n",
            "Epoch 21\n",
            "Epoch : 21 \tLoss: 0.019014\t Accuracy:99.281%\n",
            "Epoch 22\n",
            "Epoch : 22 \tLoss: 0.389243\t Accuracy:99.156%\n",
            "Epoch 23\n",
            "Epoch : 23 \tLoss: 0.041143\t Accuracy:99.146%\n",
            "Epoch 24\n",
            "Epoch : 24 \tLoss: 0.029610\t Accuracy:99.156%\n",
            "Epoch 25\n",
            "Epoch : 25 \tLoss: 0.040221\t Accuracy:99.240%\n",
            "Epoch 26\n",
            "Epoch : 26 \tLoss: 0.006472\t Accuracy:99.083%\n",
            "Epoch 27\n",
            "Epoch : 27 \tLoss: 0.106900\t Accuracy:99.250%\n",
            "Epoch 28\n",
            "Epoch : 28 \tLoss: 0.022497\t Accuracy:99.208%\n",
            "Epoch 29\n",
            "Epoch : 29 \tLoss: 0.033280\t Accuracy:99.156%\n",
            "Epoch 30\n",
            "Epoch : 30 \tLoss: 0.133468\t Accuracy:99.125%\n",
            "Epoch 31\n",
            "Epoch : 31 \tLoss: 0.000470\t Accuracy:99.156%\n",
            "Epoch 32\n",
            "Epoch : 32 \tLoss: 0.059048\t Accuracy:99.188%\n",
            "Epoch 33\n",
            "Epoch : 33 \tLoss: 0.016831\t Accuracy:99.219%\n",
            "Epoch 34\n",
            "Epoch : 34 \tLoss: 0.294786\t Accuracy:99.167%\n",
            "Epoch 35\n",
            "Epoch : 35 \tLoss: 0.020014\t Accuracy:99.135%\n",
            "Epoch 36\n",
            "Epoch : 36 \tLoss: 0.032776\t Accuracy:99.177%\n",
            "Epoch 37\n",
            "Epoch : 37 \tLoss: 0.030611\t Accuracy:99.177%\n",
            "Epoch 38\n",
            "Epoch : 38 \tLoss: 0.128420\t Accuracy:99.115%\n",
            "Epoch 39\n",
            "Epoch : 39 \tLoss: 0.014925\t Accuracy:99.115%\n",
            "Epoch 40\n",
            "Epoch : 40 \tLoss: 0.015812\t Accuracy:99.125%\n",
            "Epoch 41\n",
            "Epoch : 41 \tLoss: 0.021414\t Accuracy:99.198%\n",
            "Epoch 42\n",
            "Epoch : 42 \tLoss: 0.021341\t Accuracy:99.135%\n",
            "Epoch 43\n",
            "Epoch : 43 \tLoss: 0.018507\t Accuracy:99.198%\n",
            "Epoch 44\n",
            "Epoch : 44 \tLoss: 0.199402\t Accuracy:99.115%\n",
            "Epoch 45\n",
            "Epoch : 45 \tLoss: 0.058661\t Accuracy:99.240%\n",
            "Epoch 46\n",
            "Epoch : 46 \tLoss: 0.141432\t Accuracy:99.240%\n",
            "Epoch 47\n",
            "Epoch : 47 \tLoss: 0.022809\t Accuracy:99.229%\n",
            "Epoch 48\n",
            "Epoch : 48 \tLoss: 0.052461\t Accuracy:99.198%\n",
            "Epoch 49\n",
            "Epoch : 49 \tLoss: 0.007192\t Accuracy:99.125%\n",
            "Epoch 50\n",
            "Epoch : 50 \tLoss: 0.053827\t Accuracy:99.188%\n"
          ],
          "name": "stdout"
        }
      ]
    },
    {
      "cell_type": "code",
      "metadata": {
        "colab": {
          "base_uri": "https://localhost:8080/",
          "height": 296
        },
        "id": "yBftACxrgKuu",
        "outputId": "5ff0f569-a8f7-469c-c30e-f9b3b3fac307"
      },
      "source": [
        "plt.figure(figsize=(12,4))\r\n",
        "plt.semilogy(conc_acc1)\r\n",
        "plt.xlabel('Epoch')\r\n",
        "plt.ylabel('Validation Accuracy')\r\n",
        "plt.grid()\r\n",
        "plt.legend()\r\n",
        "plt.show()"
      ],
      "execution_count": null,
      "outputs": [
        {
          "output_type": "stream",
          "text": [
            "No handles with labels found to put in legend.\n"
          ],
          "name": "stderr"
        },
        {
          "output_type": "display_data",
          "data": {
            "image/png": "[encoded data removed]",
            "text/plain": [
              "<Figure size 864x288 with 1 Axes>"
            ]
          },
          "metadata": {
            "tags": [],
            "needs_background": "light"
          }
        }
      ]
    },
    {
      "cell_type": "markdown",
      "metadata": {
        "id": "jE-GuAUOooW-"
      },
      "source": [
        "## Evaluation"
      ]
    },
    {
      "cell_type": "code",
      "metadata": {
        "id": "N8dRouDyoqxe",
        "colab": {
          "base_uri": "https://localhost:8080/"
        },
        "outputId": "4e9b44e6-102d-4281-c5bf-6a9a2e2721b8"
      },
      "source": [
        "#%% Evaluation\n",
        "\n",
        "def evaluate(model):\n",
        "#model = mlp\n",
        "    net.eval()\n",
        "    correct = 0 \n",
        "    for test_imgs, test_labels in test_loader:\n",
        "        #print(test_imgs.shape)  \n",
        "        test_imgs = Variable(test_imgs).float()\n",
        "        test_imgs = test_imgs.to(device)\n",
        "        output = model(test_imgs)\n",
        "        predicted = torch.max(output,1)[1]\n",
        "        test_labels = test_labels.to(device)\n",
        "        correct += (predicted == test_labels.T.long()).sum()\n",
        "        #return test_imgs\n",
        "    print(\"Test accuracy:{:.3f}% \".format( float(correct)*100 / (len(test_dataset))))\n",
        "    print(correct)\n",
        "xxx=evaluate(net)"
      ],
      "execution_count": null,
      "outputs": [
        {
          "output_type": "stream",
          "text": [
            "Test accuracy:99.320% \n",
            "tensor(9932, device='cuda:0')\n"
          ],
          "name": "stdout"
        }
      ]
    },
    {
      "cell_type": "code",
      "metadata": {
        "colab": {
          "base_uri": "https://localhost:8080/",
          "height": 1000
        },
        "id": "SgtkmE67Wz_i",
        "outputId": "2a4b9662-a93f-4b5a-b69c-63ac0874b55d"
      },
      "source": [
        "activation = {}\r\n",
        "def get_activation(layer, input, output):\r\n",
        "    global activation\r\n",
        "    activation = torch.relu(output)\r\n",
        "\r\n",
        "### Register hook  \r\n",
        "\r\n",
        "net.eval()\r\n",
        "hook_handle = net.conv1.register_forward_hook(get_activation)\r\n",
        "\r\n",
        "\r\n",
        "image1 = test_dataset[7][0]\r\n",
        "label1 = test_dataset[7][1]\r\n",
        "x1 = image1.to(device)\r\n",
        "y1 = net(x1.unsqueeze(0))\r\n",
        "z1 = activation\r\n",
        "\r\n",
        "hook_handle.remove()\r\n",
        "\r\n",
        "fig = plt.figure(figsize=(8,8))\r\n",
        "plt.imshow(np.squeeze(image1).cpu(), cmap='gray_r')\r\n",
        "\r\n",
        "h1_w = net.conv1.weight.data.cpu().numpy()\r\n",
        "i = 23\r\n",
        "fig = plt.figure(figsize=(8,8))\r\n",
        "plt.imshow(np.squeeze(z1).cpu().clone().detach().numpy()[i], cmap='hot')\r\n",
        "fig = plt.figure(figsize=(4,4))\r\n",
        "plt.imshow(np.squeeze(h1_w[i]), cmap='hot')\r\n"
      ],
      "execution_count": null,
      "outputs": [
        {
          "output_type": "execute_result",
          "data": {
            "text/plain": [
              "<matplotlib.image.AxesImage at 0x7ff7ed4fcd30>"
            ]
          },
          "metadata": {
            "tags": []
          },
          "execution_count": 376
        },
        {
          "output_type": "display_data",
          "data": {
            "image/png": "[encoded data removed]",
            "text/plain": [
              "<Figure size 576x576 with 1 Axes>"
            ]
          },
          "metadata": {
            "tags": [],
            "needs_background": "light"
          }
        },
        {
          "output_type": "display_data",
          "data": {
            "image/png": "[encoded data removed]",
            "text/plain": [
              "<Figure size 576x576 with 1 Axes>"
            ]
          },
          "metadata": {
            "tags": [],
            "needs_background": "light"
          }
        },
        {
          "output_type": "display_data",
          "data": {
            "image/png": "[encoded data removed]",
            "text/plain": [
              "<Figure size 288x288 with 1 Axes>"
            ]
          },
          "metadata": {
            "tags": [],
            "needs_background": "light"
          }
        }
      ]
    }
  ]
}